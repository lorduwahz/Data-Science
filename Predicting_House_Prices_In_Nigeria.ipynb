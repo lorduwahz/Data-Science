{
  "nbformat": 4,
  "nbformat_minor": 0,
  "metadata": {
    "colab": {
      "name": "Predicting House Prices In Nigeria.ipynb",
      "provenance": [],
      "collapsed_sections": [],
      "authorship_tag": "ABX9TyMhRScihjPzV0jUr9afl/hS",
      "include_colab_link": true
    },
    "kernelspec": {
      "display_name": "Python 3",
      "name": "python3"
    },
    "language_info": {
      "name": "python"
    }
  },
  "cells": [
    {
      "cell_type": "markdown",
      "metadata": {
        "id": "view-in-github",
        "colab_type": "text"
      },
      "source": [
        "<a href=\"https://colab.research.google.com/github/lorduwahz/Data-Science/blob/main/Predicting_House_Prices_In_Nigeria.ipynb\" target=\"_parent\"><img src=\"https://colab.research.google.com/assets/colab-badge.svg\" alt=\"Open In Colab\"/></a>"
      ]
    },
    {
      "cell_type": "code",
      "metadata": {
        "id": "66cIz1fh-N3j"
      },
      "source": [
        "import pandas as pd\n",
        "import numpy as np\n",
        "import seaborn as sns"
      ],
      "execution_count": 248,
      "outputs": []
    },
    {
      "cell_type": "code",
      "metadata": {
        "colab": {
          "base_uri": "https://localhost:8080/"
        },
        "id": "Y1c0GGpp-aBn",
        "outputId": "12356de1-7b90-463e-9176-9f89b394ea4f"
      },
      "source": [
        "df = pd.read_csv('https://raw.githubusercontent.com/The-Gradient-Boost/datasets/master/Datasets/NigeriaHousingPrices/findnigprop.csv', delimiter=',')\n",
        "type(df)"
      ],
      "execution_count": 249,
      "outputs": [
        {
          "output_type": "execute_result",
          "data": {
            "text/plain": [
              "pandas.core.frame.DataFrame"
            ]
          },
          "metadata": {
            "tags": []
          },
          "execution_count": 249
        }
      ]
    },
    {
      "cell_type": "code",
      "metadata": {
        "colab": {
          "base_uri": "https://localhost:8080/",
          "height": 416
        },
        "id": "ECxt3Z6uex2L",
        "outputId": "4b6135c3-c13f-4c70-c9bf-e685b8742dc6"
      },
      "source": [
        "df"
      ],
      "execution_count": 250,
      "outputs": [
        {
          "output_type": "execute_result",
          "data": {
            "text/html": [
              "<div>\n",
              "<style scoped>\n",
              "    .dataframe tbody tr th:only-of-type {\n",
              "        vertical-align: middle;\n",
              "    }\n",
              "\n",
              "    .dataframe tbody tr th {\n",
              "        vertical-align: top;\n",
              "    }\n",
              "\n",
              "    .dataframe thead th {\n",
              "        text-align: right;\n",
              "    }\n",
              "</style>\n",
              "<table border=\"1\" class=\"dataframe\">\n",
              "  <thead>\n",
              "    <tr style=\"text-align: right;\">\n",
              "      <th></th>\n",
              "      <th>price</th>\n",
              "      <th>unit</th>\n",
              "      <th>location</th>\n",
              "      <th>bedrooms</th>\n",
              "      <th>baths</th>\n",
              "      <th>state</th>\n",
              "    </tr>\n",
              "  </thead>\n",
              "  <tbody>\n",
              "    <tr>\n",
              "      <th>0</th>\n",
              "      <td>₦2,620,000.00 Per Year</td>\n",
              "      <td>₦2,620,000.00 Per Year</td>\n",
              "      <td>, 7 obasa street, Oba-Akran, Ikeja, Lagos, Nig...</td>\n",
              "      <td>NaN</td>\n",
              "      <td>NaN</td>\n",
              "      <td>NaN</td>\n",
              "    </tr>\n",
              "    <tr>\n",
              "      <th>1</th>\n",
              "      <td>₦2,500,000.00</td>\n",
              "      <td>₦2,500,000.00</td>\n",
              "      <td>, Tudu wada, Karshi,, Karu, Nasaruwa, Nigeria</td>\n",
              "      <td>NaN</td>\n",
              "      <td>NaN</td>\n",
              "      <td>NaN</td>\n",
              "    </tr>\n",
              "    <tr>\n",
              "      <th>2</th>\n",
              "      <td>₦300,000.00</td>\n",
              "      <td>₦300,000.00</td>\n",
              "      <td>, ukeh, masaka, mararba, Karu, Nasaruwa, Nigeria</td>\n",
              "      <td>NaN</td>\n",
              "      <td>NaN</td>\n",
              "      <td>NaN</td>\n",
              "    </tr>\n",
              "    <tr>\n",
              "      <th>3</th>\n",
              "      <td>per month</td>\n",
              "      <td>per month</td>\n",
              "      <td>, World Trade Center Commercial Tower, Plot 11...</td>\n",
              "      <td>NaN</td>\n",
              "      <td>NaN</td>\n",
              "      <td>NaN</td>\n",
              "    </tr>\n",
              "    <tr>\n",
              "      <th>4</th>\n",
              "      <td></td>\n",
              "      <td></td>\n",
              "      <td>, World Trade Center, Plot 1113, Constitution ...</td>\n",
              "      <td>2.0</td>\n",
              "      <td>NaN</td>\n",
              "      <td>NaN</td>\n",
              "    </tr>\n",
              "    <tr>\n",
              "      <th>...</th>\n",
              "      <td>...</td>\n",
              "      <td>...</td>\n",
              "      <td>...</td>\n",
              "      <td>...</td>\n",
              "      <td>...</td>\n",
              "      <td>...</td>\n",
              "    </tr>\n",
              "    <tr>\n",
              "      <th>747</th>\n",
              "      <td></td>\n",
              "      <td></td>\n",
              "      <td>, Adedoyin Ogungbe Crescent, Lekki Phase 1, La...</td>\n",
              "      <td>NaN</td>\n",
              "      <td>NaN</td>\n",
              "      <td>NaN</td>\n",
              "    </tr>\n",
              "    <tr>\n",
              "      <th>748</th>\n",
              "      <td>₦4,000,000.00 per month</td>\n",
              "      <td>₦4,000,000.00 per month</td>\n",
              "      <td>, Allen Avenue, Ikeja, Lagos, Nigeria</td>\n",
              "      <td>NaN</td>\n",
              "      <td>NaN</td>\n",
              "      <td>NaN</td>\n",
              "    </tr>\n",
              "    <tr>\n",
              "      <th>749</th>\n",
              "      <td>₦200,000,000.00</td>\n",
              "      <td>₦200,000,000.00</td>\n",
              "      <td>, ALABA INTERNATIONAL MARKET;IGBEDE ROAD..., O...</td>\n",
              "      <td>NaN</td>\n",
              "      <td>NaN</td>\n",
              "      <td>NaN</td>\n",
              "    </tr>\n",
              "    <tr>\n",
              "      <th>750</th>\n",
              "      <td>₦27,500.00 Per Year</td>\n",
              "      <td>₦27,500.00 Per Year</td>\n",
              "      <td>, Awolowo Road, Nigeria</td>\n",
              "      <td>NaN</td>\n",
              "      <td>NaN</td>\n",
              "      <td>NaN</td>\n",
              "    </tr>\n",
              "    <tr>\n",
              "      <th>751</th>\n",
              "      <td>₦500,000.00 Per Year</td>\n",
              "      <td>₦500,000.00 Per Year</td>\n",
              "      <td>, Ogudu GRA Road, Nigeria</td>\n",
              "      <td>NaN</td>\n",
              "      <td>NaN</td>\n",
              "      <td>NaN</td>\n",
              "    </tr>\n",
              "  </tbody>\n",
              "</table>\n",
              "<p>752 rows × 6 columns</p>\n",
              "</div>"
            ],
            "text/plain": [
              "                       price                     unit  ... baths  state\n",
              "0     ₦2,620,000.00 Per Year   ₦2,620,000.00 Per Year  ...   NaN    NaN\n",
              "1             ₦2,500,000.00            ₦2,500,000.00   ...   NaN    NaN\n",
              "2               ₦300,000.00              ₦300,000.00   ...   NaN    NaN\n",
              "3                  per month                per month  ...   NaN    NaN\n",
              "4                                                      ...   NaN    NaN\n",
              "..                       ...                      ...  ...   ...    ...\n",
              "747                                                    ...   NaN    NaN\n",
              "748  ₦4,000,000.00 per month  ₦4,000,000.00 per month  ...   NaN    NaN\n",
              "749         ₦200,000,000.00          ₦200,000,000.00   ...   NaN    NaN\n",
              "750      ₦27,500.00 Per Year      ₦27,500.00 Per Year  ...   NaN    NaN\n",
              "751     ₦500,000.00 Per Year     ₦500,000.00 Per Year  ...   NaN    NaN\n",
              "\n",
              "[752 rows x 6 columns]"
            ]
          },
          "metadata": {
            "tags": []
          },
          "execution_count": 250
        }
      ]
    },
    {
      "cell_type": "markdown",
      "metadata": {
        "id": "p00B-Xg3zMSe"
      },
      "source": [
        "Assessing the data, I discovered that there are houses with 0 and NaN bedrooms. I decided to retain anly appartments that have 1 or more bedrooms"
      ]
    },
    {
      "cell_type": "code",
      "metadata": {
        "id": "_05iyEaTdzhG"
      },
      "source": [
        "new_df = df[df['bedrooms'] > 0]"
      ],
      "execution_count": 251,
      "outputs": []
    },
    {
      "cell_type": "code",
      "metadata": {
        "colab": {
          "base_uri": "https://localhost:8080/",
          "height": 416
        },
        "id": "R_zCVgr4bI5i",
        "outputId": "e01f60bb-b3bf-4694-abce-12c9f37a37cf"
      },
      "source": [
        "new_df"
      ],
      "execution_count": 252,
      "outputs": [
        {
          "output_type": "execute_result",
          "data": {
            "text/html": [
              "<div>\n",
              "<style scoped>\n",
              "    .dataframe tbody tr th:only-of-type {\n",
              "        vertical-align: middle;\n",
              "    }\n",
              "\n",
              "    .dataframe tbody tr th {\n",
              "        vertical-align: top;\n",
              "    }\n",
              "\n",
              "    .dataframe thead th {\n",
              "        text-align: right;\n",
              "    }\n",
              "</style>\n",
              "<table border=\"1\" class=\"dataframe\">\n",
              "  <thead>\n",
              "    <tr style=\"text-align: right;\">\n",
              "      <th></th>\n",
              "      <th>price</th>\n",
              "      <th>unit</th>\n",
              "      <th>location</th>\n",
              "      <th>bedrooms</th>\n",
              "      <th>baths</th>\n",
              "      <th>state</th>\n",
              "    </tr>\n",
              "  </thead>\n",
              "  <tbody>\n",
              "    <tr>\n",
              "      <th>4</th>\n",
              "      <td></td>\n",
              "      <td></td>\n",
              "      <td>, World Trade Center, Plot 1113, Constitution ...</td>\n",
              "      <td>2.0</td>\n",
              "      <td>NaN</td>\n",
              "      <td>NaN</td>\n",
              "    </tr>\n",
              "    <tr>\n",
              "      <th>5</th>\n",
              "      <td></td>\n",
              "      <td></td>\n",
              "      <td>, World Trade Center, Plot 1113, Constitution ...</td>\n",
              "      <td>1.0</td>\n",
              "      <td>NaN</td>\n",
              "      <td>NaN</td>\n",
              "    </tr>\n",
              "    <tr>\n",
              "      <th>6</th>\n",
              "      <td></td>\n",
              "      <td></td>\n",
              "      <td>, World Trade Center, Plot 1113, Constitution ...</td>\n",
              "      <td>3.0</td>\n",
              "      <td>NaN</td>\n",
              "      <td>NaN</td>\n",
              "    </tr>\n",
              "    <tr>\n",
              "      <th>8</th>\n",
              "      <td>₦33,000,000.00</td>\n",
              "      <td>₦33,000,000.00</td>\n",
              "      <td>, Alafia Bus stop, Badagry Express Way, Lagos,...</td>\n",
              "      <td>5.0</td>\n",
              "      <td>5f</td>\n",
              "      <td>NaN</td>\n",
              "    </tr>\n",
              "    <tr>\n",
              "      <th>9</th>\n",
              "      <td>₦30,000,000.00</td>\n",
              "      <td>₦30,000,000.00</td>\n",
              "      <td>, Alafia Bus stop, Badagry Express Way, Lagos,...</td>\n",
              "      <td>8.0</td>\n",
              "      <td>7f</td>\n",
              "      <td>NaN</td>\n",
              "    </tr>\n",
              "    <tr>\n",
              "      <th>...</th>\n",
              "      <td>...</td>\n",
              "      <td>...</td>\n",
              "      <td>...</td>\n",
              "      <td>...</td>\n",
              "      <td>...</td>\n",
              "      <td>...</td>\n",
              "    </tr>\n",
              "    <tr>\n",
              "      <th>685</th>\n",
              "      <td>₦4,000,000.00 Per Year</td>\n",
              "      <td>₦4,000,000.00 Per Year</td>\n",
              "      <td>, Femi Okunnu Estate, Nigeria</td>\n",
              "      <td>4.0</td>\n",
              "      <td>0f</td>\n",
              "      <td>NaN</td>\n",
              "    </tr>\n",
              "    <tr>\n",
              "      <th>686</th>\n",
              "      <td>₦70,000,000.00 Per Year</td>\n",
              "      <td>₦70,000,000.00 Per Year</td>\n",
              "      <td>, Oniru, Nigeria</td>\n",
              "      <td>4.0</td>\n",
              "      <td>0f</td>\n",
              "      <td>NaN</td>\n",
              "    </tr>\n",
              "    <tr>\n",
              "      <th>691</th>\n",
              "      <td>₦20,000,000.00</td>\n",
              "      <td>₦20,000,000.00</td>\n",
              "      <td>, Peace Estate, Federal Govt. housing scheme, ...</td>\n",
              "      <td>4.0</td>\n",
              "      <td>0f</td>\n",
              "      <td>NaN</td>\n",
              "    </tr>\n",
              "    <tr>\n",
              "      <th>730</th>\n",
              "      <td>₦5,500,000.00 per month</td>\n",
              "      <td>₦5,500,000.00 per month</td>\n",
              "      <td>, Lekki phase 1, Lekki Phase 1, Lagos, Nigeria</td>\n",
              "      <td>5.0</td>\n",
              "      <td>0f</td>\n",
              "      <td>NaN</td>\n",
              "    </tr>\n",
              "    <tr>\n",
              "      <th>731</th>\n",
              "      <td>$2,500,000</td>\n",
              "      <td>$2,500,000</td>\n",
              "      <td>, Gerrard Road, Ikoyi, Lagos, Nigeria</td>\n",
              "      <td>4.0</td>\n",
              "      <td>0f</td>\n",
              "      <td>NaN</td>\n",
              "    </tr>\n",
              "  </tbody>\n",
              "</table>\n",
              "<p>422 rows × 6 columns</p>\n",
              "</div>"
            ],
            "text/plain": [
              "                       price                     unit  ... baths  state\n",
              "4                                                      ...   NaN    NaN\n",
              "5                                                      ...   NaN    NaN\n",
              "6                                                      ...   NaN    NaN\n",
              "8            ₦33,000,000.00           ₦33,000,000.00   ...    5f    NaN\n",
              "9            ₦30,000,000.00           ₦30,000,000.00   ...    7f    NaN\n",
              "..                       ...                      ...  ...   ...    ...\n",
              "685   ₦4,000,000.00 Per Year   ₦4,000,000.00 Per Year  ...    0f    NaN\n",
              "686  ₦70,000,000.00 Per Year  ₦70,000,000.00 Per Year  ...    0f    NaN\n",
              "691          ₦20,000,000.00           ₦20,000,000.00   ...    0f    NaN\n",
              "730  ₦5,500,000.00 per month  ₦5,500,000.00 per month  ...    0f    NaN\n",
              "731              $2,500,000               $2,500,000   ...    0f    NaN\n",
              "\n",
              "[422 rows x 6 columns]"
            ]
          },
          "metadata": {
            "tags": []
          },
          "execution_count": 252
        }
      ]
    },
    {
      "cell_type": "markdown",
      "metadata": {
        "id": "KUEUYNSxz69k"
      },
      "source": [
        "Dropping the states and baths from the dataset was necessary because they offer no direct information as to how we can properly understand theis dataset. They are also not required for our regression analysis later on."
      ]
    },
    {
      "cell_type": "code",
      "metadata": {
        "id": "nJKJvYA2-TFM",
        "colab": {
          "base_uri": "https://localhost:8080/",
          "height": 416
        },
        "outputId": "ae41dfa5-0cdb-4107-cbe7-40b592e05aa3"
      },
      "source": [
        "data = new_df.drop(columns=['baths', 'state'])\n",
        "data"
      ],
      "execution_count": 253,
      "outputs": [
        {
          "output_type": "execute_result",
          "data": {
            "text/html": [
              "<div>\n",
              "<style scoped>\n",
              "    .dataframe tbody tr th:only-of-type {\n",
              "        vertical-align: middle;\n",
              "    }\n",
              "\n",
              "    .dataframe tbody tr th {\n",
              "        vertical-align: top;\n",
              "    }\n",
              "\n",
              "    .dataframe thead th {\n",
              "        text-align: right;\n",
              "    }\n",
              "</style>\n",
              "<table border=\"1\" class=\"dataframe\">\n",
              "  <thead>\n",
              "    <tr style=\"text-align: right;\">\n",
              "      <th></th>\n",
              "      <th>price</th>\n",
              "      <th>unit</th>\n",
              "      <th>location</th>\n",
              "      <th>bedrooms</th>\n",
              "    </tr>\n",
              "  </thead>\n",
              "  <tbody>\n",
              "    <tr>\n",
              "      <th>4</th>\n",
              "      <td></td>\n",
              "      <td></td>\n",
              "      <td>, World Trade Center, Plot 1113, Constitution ...</td>\n",
              "      <td>2.0</td>\n",
              "    </tr>\n",
              "    <tr>\n",
              "      <th>5</th>\n",
              "      <td></td>\n",
              "      <td></td>\n",
              "      <td>, World Trade Center, Plot 1113, Constitution ...</td>\n",
              "      <td>1.0</td>\n",
              "    </tr>\n",
              "    <tr>\n",
              "      <th>6</th>\n",
              "      <td></td>\n",
              "      <td></td>\n",
              "      <td>, World Trade Center, Plot 1113, Constitution ...</td>\n",
              "      <td>3.0</td>\n",
              "    </tr>\n",
              "    <tr>\n",
              "      <th>8</th>\n",
              "      <td>₦33,000,000.00</td>\n",
              "      <td>₦33,000,000.00</td>\n",
              "      <td>, Alafia Bus stop, Badagry Express Way, Lagos,...</td>\n",
              "      <td>5.0</td>\n",
              "    </tr>\n",
              "    <tr>\n",
              "      <th>9</th>\n",
              "      <td>₦30,000,000.00</td>\n",
              "      <td>₦30,000,000.00</td>\n",
              "      <td>, Alafia Bus stop, Badagry Express Way, Lagos,...</td>\n",
              "      <td>8.0</td>\n",
              "    </tr>\n",
              "    <tr>\n",
              "      <th>...</th>\n",
              "      <td>...</td>\n",
              "      <td>...</td>\n",
              "      <td>...</td>\n",
              "      <td>...</td>\n",
              "    </tr>\n",
              "    <tr>\n",
              "      <th>685</th>\n",
              "      <td>₦4,000,000.00 Per Year</td>\n",
              "      <td>₦4,000,000.00 Per Year</td>\n",
              "      <td>, Femi Okunnu Estate, Nigeria</td>\n",
              "      <td>4.0</td>\n",
              "    </tr>\n",
              "    <tr>\n",
              "      <th>686</th>\n",
              "      <td>₦70,000,000.00 Per Year</td>\n",
              "      <td>₦70,000,000.00 Per Year</td>\n",
              "      <td>, Oniru, Nigeria</td>\n",
              "      <td>4.0</td>\n",
              "    </tr>\n",
              "    <tr>\n",
              "      <th>691</th>\n",
              "      <td>₦20,000,000.00</td>\n",
              "      <td>₦20,000,000.00</td>\n",
              "      <td>, Peace Estate, Federal Govt. housing scheme, ...</td>\n",
              "      <td>4.0</td>\n",
              "    </tr>\n",
              "    <tr>\n",
              "      <th>730</th>\n",
              "      <td>₦5,500,000.00 per month</td>\n",
              "      <td>₦5,500,000.00 per month</td>\n",
              "      <td>, Lekki phase 1, Lekki Phase 1, Lagos, Nigeria</td>\n",
              "      <td>5.0</td>\n",
              "    </tr>\n",
              "    <tr>\n",
              "      <th>731</th>\n",
              "      <td>$2,500,000</td>\n",
              "      <td>$2,500,000</td>\n",
              "      <td>, Gerrard Road, Ikoyi, Lagos, Nigeria</td>\n",
              "      <td>4.0</td>\n",
              "    </tr>\n",
              "  </tbody>\n",
              "</table>\n",
              "<p>422 rows × 4 columns</p>\n",
              "</div>"
            ],
            "text/plain": [
              "                       price  ... bedrooms\n",
              "4                             ...      2.0\n",
              "5                             ...      1.0\n",
              "6                             ...      3.0\n",
              "8            ₦33,000,000.00   ...      5.0\n",
              "9            ₦30,000,000.00   ...      8.0\n",
              "..                       ...  ...      ...\n",
              "685   ₦4,000,000.00 Per Year  ...      4.0\n",
              "686  ₦70,000,000.00 Per Year  ...      4.0\n",
              "691          ₦20,000,000.00   ...      4.0\n",
              "730  ₦5,500,000.00 per month  ...      5.0\n",
              "731              $2,500,000   ...      4.0\n",
              "\n",
              "[422 rows x 4 columns]"
            ]
          },
          "metadata": {
            "tags": []
          },
          "execution_count": 253
        }
      ]
    },
    {
      "cell_type": "markdown",
      "metadata": {
        "id": "e8iH5MWM0lPO"
      },
      "source": [
        "The dataset still contains some empty strings in the two of our most useful columns. This means the rows housing these empty strings are also not useful. The empty string was replaced with numpy's NaN and subsequently dropped from our dataset."
      ]
    },
    {
      "cell_type": "code",
      "metadata": {
        "id": "-jkjmm-ZTC81"
      },
      "source": [
        "data.apply(str)\n",
        "data.replace(' ', np.nan, inplace=True)"
      ],
      "execution_count": 254,
      "outputs": []
    },
    {
      "cell_type": "code",
      "metadata": {
        "id": "7JuQ51EAT6cb"
      },
      "source": [
        "data.dropna(subset=['price', 'unit'], inplace=True)"
      ],
      "execution_count": 255,
      "outputs": []
    },
    {
      "cell_type": "code",
      "metadata": {
        "colab": {
          "base_uri": "https://localhost:8080/",
          "height": 416
        },
        "id": "srHxYfZoQbRr",
        "outputId": "1c9de714-4ef2-40a7-df7d-28c12b83c4ef"
      },
      "source": [
        "data"
      ],
      "execution_count": 256,
      "outputs": [
        {
          "output_type": "execute_result",
          "data": {
            "text/html": [
              "<div>\n",
              "<style scoped>\n",
              "    .dataframe tbody tr th:only-of-type {\n",
              "        vertical-align: middle;\n",
              "    }\n",
              "\n",
              "    .dataframe tbody tr th {\n",
              "        vertical-align: top;\n",
              "    }\n",
              "\n",
              "    .dataframe thead th {\n",
              "        text-align: right;\n",
              "    }\n",
              "</style>\n",
              "<table border=\"1\" class=\"dataframe\">\n",
              "  <thead>\n",
              "    <tr style=\"text-align: right;\">\n",
              "      <th></th>\n",
              "      <th>price</th>\n",
              "      <th>unit</th>\n",
              "      <th>location</th>\n",
              "      <th>bedrooms</th>\n",
              "    </tr>\n",
              "  </thead>\n",
              "  <tbody>\n",
              "    <tr>\n",
              "      <th>8</th>\n",
              "      <td>₦33,000,000.00</td>\n",
              "      <td>₦33,000,000.00</td>\n",
              "      <td>, Alafia Bus stop, Badagry Express Way, Lagos,...</td>\n",
              "      <td>5.0</td>\n",
              "    </tr>\n",
              "    <tr>\n",
              "      <th>9</th>\n",
              "      <td>₦30,000,000.00</td>\n",
              "      <td>₦30,000,000.00</td>\n",
              "      <td>, Alafia Bus stop, Badagry Express Way, Lagos,...</td>\n",
              "      <td>8.0</td>\n",
              "    </tr>\n",
              "    <tr>\n",
              "      <th>10</th>\n",
              "      <td>₦3,750,000.00 Per Year</td>\n",
              "      <td>₦3,750,000.00 Per Year</td>\n",
              "      <td>, jabi by eco bank, Jabi, Abuja FCT, Nigeria</td>\n",
              "      <td>3.0</td>\n",
              "    </tr>\n",
              "    <tr>\n",
              "      <th>11</th>\n",
              "      <td>₦40,000,000.00</td>\n",
              "      <td>₦40,000,000.00</td>\n",
              "      <td>, Alafia Bus stop, Badagry Express Way, Lagos,...</td>\n",
              "      <td>5.0</td>\n",
              "    </tr>\n",
              "    <tr>\n",
              "      <th>12</th>\n",
              "      <td>₦150,000,000.00</td>\n",
              "      <td>₦150,000,000.00</td>\n",
              "      <td>, Oduduwa Crescent, Nigeria</td>\n",
              "      <td>4.0</td>\n",
              "    </tr>\n",
              "    <tr>\n",
              "      <th>...</th>\n",
              "      <td>...</td>\n",
              "      <td>...</td>\n",
              "      <td>...</td>\n",
              "      <td>...</td>\n",
              "    </tr>\n",
              "    <tr>\n",
              "      <th>685</th>\n",
              "      <td>₦4,000,000.00 Per Year</td>\n",
              "      <td>₦4,000,000.00 Per Year</td>\n",
              "      <td>, Femi Okunnu Estate, Nigeria</td>\n",
              "      <td>4.0</td>\n",
              "    </tr>\n",
              "    <tr>\n",
              "      <th>686</th>\n",
              "      <td>₦70,000,000.00 Per Year</td>\n",
              "      <td>₦70,000,000.00 Per Year</td>\n",
              "      <td>, Oniru, Nigeria</td>\n",
              "      <td>4.0</td>\n",
              "    </tr>\n",
              "    <tr>\n",
              "      <th>691</th>\n",
              "      <td>₦20,000,000.00</td>\n",
              "      <td>₦20,000,000.00</td>\n",
              "      <td>, Peace Estate, Federal Govt. housing scheme, ...</td>\n",
              "      <td>4.0</td>\n",
              "    </tr>\n",
              "    <tr>\n",
              "      <th>730</th>\n",
              "      <td>₦5,500,000.00 per month</td>\n",
              "      <td>₦5,500,000.00 per month</td>\n",
              "      <td>, Lekki phase 1, Lekki Phase 1, Lagos, Nigeria</td>\n",
              "      <td>5.0</td>\n",
              "    </tr>\n",
              "    <tr>\n",
              "      <th>731</th>\n",
              "      <td>$2,500,000</td>\n",
              "      <td>$2,500,000</td>\n",
              "      <td>, Gerrard Road, Ikoyi, Lagos, Nigeria</td>\n",
              "      <td>4.0</td>\n",
              "    </tr>\n",
              "  </tbody>\n",
              "</table>\n",
              "<p>406 rows × 4 columns</p>\n",
              "</div>"
            ],
            "text/plain": [
              "                       price  ... bedrooms\n",
              "8            ₦33,000,000.00   ...      5.0\n",
              "9            ₦30,000,000.00   ...      8.0\n",
              "10    ₦3,750,000.00 Per Year  ...      3.0\n",
              "11           ₦40,000,000.00   ...      5.0\n",
              "12          ₦150,000,000.00   ...      4.0\n",
              "..                       ...  ...      ...\n",
              "685   ₦4,000,000.00 Per Year  ...      4.0\n",
              "686  ₦70,000,000.00 Per Year  ...      4.0\n",
              "691          ₦20,000,000.00   ...      4.0\n",
              "730  ₦5,500,000.00 per month  ...      5.0\n",
              "731              $2,500,000   ...      4.0\n",
              "\n",
              "[406 rows x 4 columns]"
            ]
          },
          "metadata": {
            "tags": []
          },
          "execution_count": 256
        }
      ]
    },
    {
      "cell_type": "code",
      "metadata": {
        "colab": {
          "base_uri": "https://localhost:8080/"
        },
        "id": "EUj7hsmkXH8O",
        "outputId": "b911df11-bac2-4d73-ce47-6dba189d0403"
      },
      "source": [
        "data['price'] = data['price'].str.strip().str.replace(',', '').str.replace(\n",
        "    'Per Year', '').str.replace('per month', '').str.replace(\n",
        "        'Per day', '').str.replace(' ', '')\n",
        "data['price']"
      ],
      "execution_count": 257,
      "outputs": [
        {
          "output_type": "execute_result",
          "data": {
            "text/plain": [
              "8       ₦33000000.00\n",
              "9       ₦30000000.00\n",
              "10       ₦3750000.00\n",
              "11      ₦40000000.00\n",
              "12     ₦150000000.00\n",
              "           ...      \n",
              "685      ₦4000000.00\n",
              "686     ₦70000000.00\n",
              "691     ₦20000000.00\n",
              "730      ₦5500000.00\n",
              "731         $2500000\n",
              "Name: price, Length: 406, dtype: object"
            ]
          },
          "metadata": {
            "tags": []
          },
          "execution_count": 257
        }
      ]
    },
    {
      "cell_type": "code",
      "metadata": {
        "id": "SxEblXaKNrTu"
      },
      "source": [
        "data.replace('', np.nan, inplace=True)"
      ],
      "execution_count": 258,
      "outputs": []
    },
    {
      "cell_type": "code",
      "metadata": {
        "id": "73Tkt-LiQare"
      },
      "source": [
        "data.dropna(subset=['price'], inplace=True)"
      ],
      "execution_count": 259,
      "outputs": []
    },
    {
      "cell_type": "code",
      "metadata": {
        "colab": {
          "base_uri": "https://localhost:8080/",
          "height": 416
        },
        "id": "SKM5VSGXRHHm",
        "outputId": "7afe3740-b06e-43f1-a799-fad5a99259c3"
      },
      "source": [
        "data"
      ],
      "execution_count": 260,
      "outputs": [
        {
          "output_type": "execute_result",
          "data": {
            "text/html": [
              "<div>\n",
              "<style scoped>\n",
              "    .dataframe tbody tr th:only-of-type {\n",
              "        vertical-align: middle;\n",
              "    }\n",
              "\n",
              "    .dataframe tbody tr th {\n",
              "        vertical-align: top;\n",
              "    }\n",
              "\n",
              "    .dataframe thead th {\n",
              "        text-align: right;\n",
              "    }\n",
              "</style>\n",
              "<table border=\"1\" class=\"dataframe\">\n",
              "  <thead>\n",
              "    <tr style=\"text-align: right;\">\n",
              "      <th></th>\n",
              "      <th>price</th>\n",
              "      <th>unit</th>\n",
              "      <th>location</th>\n",
              "      <th>bedrooms</th>\n",
              "    </tr>\n",
              "  </thead>\n",
              "  <tbody>\n",
              "    <tr>\n",
              "      <th>8</th>\n",
              "      <td>₦33000000.00</td>\n",
              "      <td>₦33,000,000.00</td>\n",
              "      <td>, Alafia Bus stop, Badagry Express Way, Lagos,...</td>\n",
              "      <td>5.0</td>\n",
              "    </tr>\n",
              "    <tr>\n",
              "      <th>9</th>\n",
              "      <td>₦30000000.00</td>\n",
              "      <td>₦30,000,000.00</td>\n",
              "      <td>, Alafia Bus stop, Badagry Express Way, Lagos,...</td>\n",
              "      <td>8.0</td>\n",
              "    </tr>\n",
              "    <tr>\n",
              "      <th>10</th>\n",
              "      <td>₦3750000.00</td>\n",
              "      <td>₦3,750,000.00 Per Year</td>\n",
              "      <td>, jabi by eco bank, Jabi, Abuja FCT, Nigeria</td>\n",
              "      <td>3.0</td>\n",
              "    </tr>\n",
              "    <tr>\n",
              "      <th>11</th>\n",
              "      <td>₦40000000.00</td>\n",
              "      <td>₦40,000,000.00</td>\n",
              "      <td>, Alafia Bus stop, Badagry Express Way, Lagos,...</td>\n",
              "      <td>5.0</td>\n",
              "    </tr>\n",
              "    <tr>\n",
              "      <th>12</th>\n",
              "      <td>₦150000000.00</td>\n",
              "      <td>₦150,000,000.00</td>\n",
              "      <td>, Oduduwa Crescent, Nigeria</td>\n",
              "      <td>4.0</td>\n",
              "    </tr>\n",
              "    <tr>\n",
              "      <th>...</th>\n",
              "      <td>...</td>\n",
              "      <td>...</td>\n",
              "      <td>...</td>\n",
              "      <td>...</td>\n",
              "    </tr>\n",
              "    <tr>\n",
              "      <th>685</th>\n",
              "      <td>₦4000000.00</td>\n",
              "      <td>₦4,000,000.00 Per Year</td>\n",
              "      <td>, Femi Okunnu Estate, Nigeria</td>\n",
              "      <td>4.0</td>\n",
              "    </tr>\n",
              "    <tr>\n",
              "      <th>686</th>\n",
              "      <td>₦70000000.00</td>\n",
              "      <td>₦70,000,000.00 Per Year</td>\n",
              "      <td>, Oniru, Nigeria</td>\n",
              "      <td>4.0</td>\n",
              "    </tr>\n",
              "    <tr>\n",
              "      <th>691</th>\n",
              "      <td>₦20000000.00</td>\n",
              "      <td>₦20,000,000.00</td>\n",
              "      <td>, Peace Estate, Federal Govt. housing scheme, ...</td>\n",
              "      <td>4.0</td>\n",
              "    </tr>\n",
              "    <tr>\n",
              "      <th>730</th>\n",
              "      <td>₦5500000.00</td>\n",
              "      <td>₦5,500,000.00 per month</td>\n",
              "      <td>, Lekki phase 1, Lekki Phase 1, Lagos, Nigeria</td>\n",
              "      <td>5.0</td>\n",
              "    </tr>\n",
              "    <tr>\n",
              "      <th>731</th>\n",
              "      <td>$2500000</td>\n",
              "      <td>$2,500,000</td>\n",
              "      <td>, Gerrard Road, Ikoyi, Lagos, Nigeria</td>\n",
              "      <td>4.0</td>\n",
              "    </tr>\n",
              "  </tbody>\n",
              "</table>\n",
              "<p>404 rows × 4 columns</p>\n",
              "</div>"
            ],
            "text/plain": [
              "             price  ... bedrooms\n",
              "8     ₦33000000.00  ...      5.0\n",
              "9     ₦30000000.00  ...      8.0\n",
              "10     ₦3750000.00  ...      3.0\n",
              "11    ₦40000000.00  ...      5.0\n",
              "12   ₦150000000.00  ...      4.0\n",
              "..             ...  ...      ...\n",
              "685    ₦4000000.00  ...      4.0\n",
              "686   ₦70000000.00  ...      4.0\n",
              "691   ₦20000000.00  ...      4.0\n",
              "730    ₦5500000.00  ...      5.0\n",
              "731       $2500000  ...      4.0\n",
              "\n",
              "[404 rows x 4 columns]"
            ]
          },
          "metadata": {
            "tags": []
          },
          "execution_count": 260
        }
      ]
    },
    {
      "cell_type": "markdown",
      "metadata": {
        "id": "H3iO3Vzk1S0K"
      },
      "source": [
        "My aim is to get a uniform sales value for all the properties listed in our dataset. Having a description of what leasing structure is running on each property is an important step to get me there."
      ]
    },
    {
      "cell_type": "code",
      "metadata": {
        "id": "Du2lh-JO4bNR"
      },
      "source": [
        "def year_ret (x):\n",
        "  if 'Year' in x:\n",
        "    return 'Yearly Rent'\n",
        "  elif 'onth' in x:\n",
        "    return 'Monthly Rent'\n",
        "  elif 'day' in x:\n",
        "    return 'Daily Rent'\n",
        "  else:\n",
        "    return 'Full Purchase'\n",
        "  "
      ],
      "execution_count": 261,
      "outputs": []
    },
    {
      "cell_type": "code",
      "metadata": {
        "colab": {
          "base_uri": "https://localhost:8080/",
          "height": 416
        },
        "id": "Ngbp2sjioZ2C",
        "outputId": "bf47201d-dce7-4a01-d9a8-c0a988e27ddd"
      },
      "source": [
        "data['desc'] = data['unit'].apply(year_ret)\n",
        "data"
      ],
      "execution_count": 262,
      "outputs": [
        {
          "output_type": "execute_result",
          "data": {
            "text/html": [
              "<div>\n",
              "<style scoped>\n",
              "    .dataframe tbody tr th:only-of-type {\n",
              "        vertical-align: middle;\n",
              "    }\n",
              "\n",
              "    .dataframe tbody tr th {\n",
              "        vertical-align: top;\n",
              "    }\n",
              "\n",
              "    .dataframe thead th {\n",
              "        text-align: right;\n",
              "    }\n",
              "</style>\n",
              "<table border=\"1\" class=\"dataframe\">\n",
              "  <thead>\n",
              "    <tr style=\"text-align: right;\">\n",
              "      <th></th>\n",
              "      <th>price</th>\n",
              "      <th>unit</th>\n",
              "      <th>location</th>\n",
              "      <th>bedrooms</th>\n",
              "      <th>desc</th>\n",
              "    </tr>\n",
              "  </thead>\n",
              "  <tbody>\n",
              "    <tr>\n",
              "      <th>8</th>\n",
              "      <td>₦33000000.00</td>\n",
              "      <td>₦33,000,000.00</td>\n",
              "      <td>, Alafia Bus stop, Badagry Express Way, Lagos,...</td>\n",
              "      <td>5.0</td>\n",
              "      <td>Full Purchase</td>\n",
              "    </tr>\n",
              "    <tr>\n",
              "      <th>9</th>\n",
              "      <td>₦30000000.00</td>\n",
              "      <td>₦30,000,000.00</td>\n",
              "      <td>, Alafia Bus stop, Badagry Express Way, Lagos,...</td>\n",
              "      <td>8.0</td>\n",
              "      <td>Full Purchase</td>\n",
              "    </tr>\n",
              "    <tr>\n",
              "      <th>10</th>\n",
              "      <td>₦3750000.00</td>\n",
              "      <td>₦3,750,000.00 Per Year</td>\n",
              "      <td>, jabi by eco bank, Jabi, Abuja FCT, Nigeria</td>\n",
              "      <td>3.0</td>\n",
              "      <td>Yearly Rent</td>\n",
              "    </tr>\n",
              "    <tr>\n",
              "      <th>11</th>\n",
              "      <td>₦40000000.00</td>\n",
              "      <td>₦40,000,000.00</td>\n",
              "      <td>, Alafia Bus stop, Badagry Express Way, Lagos,...</td>\n",
              "      <td>5.0</td>\n",
              "      <td>Full Purchase</td>\n",
              "    </tr>\n",
              "    <tr>\n",
              "      <th>12</th>\n",
              "      <td>₦150000000.00</td>\n",
              "      <td>₦150,000,000.00</td>\n",
              "      <td>, Oduduwa Crescent, Nigeria</td>\n",
              "      <td>4.0</td>\n",
              "      <td>Full Purchase</td>\n",
              "    </tr>\n",
              "    <tr>\n",
              "      <th>...</th>\n",
              "      <td>...</td>\n",
              "      <td>...</td>\n",
              "      <td>...</td>\n",
              "      <td>...</td>\n",
              "      <td>...</td>\n",
              "    </tr>\n",
              "    <tr>\n",
              "      <th>685</th>\n",
              "      <td>₦4000000.00</td>\n",
              "      <td>₦4,000,000.00 Per Year</td>\n",
              "      <td>, Femi Okunnu Estate, Nigeria</td>\n",
              "      <td>4.0</td>\n",
              "      <td>Yearly Rent</td>\n",
              "    </tr>\n",
              "    <tr>\n",
              "      <th>686</th>\n",
              "      <td>₦70000000.00</td>\n",
              "      <td>₦70,000,000.00 Per Year</td>\n",
              "      <td>, Oniru, Nigeria</td>\n",
              "      <td>4.0</td>\n",
              "      <td>Yearly Rent</td>\n",
              "    </tr>\n",
              "    <tr>\n",
              "      <th>691</th>\n",
              "      <td>₦20000000.00</td>\n",
              "      <td>₦20,000,000.00</td>\n",
              "      <td>, Peace Estate, Federal Govt. housing scheme, ...</td>\n",
              "      <td>4.0</td>\n",
              "      <td>Full Purchase</td>\n",
              "    </tr>\n",
              "    <tr>\n",
              "      <th>730</th>\n",
              "      <td>₦5500000.00</td>\n",
              "      <td>₦5,500,000.00 per month</td>\n",
              "      <td>, Lekki phase 1, Lekki Phase 1, Lagos, Nigeria</td>\n",
              "      <td>5.0</td>\n",
              "      <td>Monthly Rent</td>\n",
              "    </tr>\n",
              "    <tr>\n",
              "      <th>731</th>\n",
              "      <td>$2500000</td>\n",
              "      <td>$2,500,000</td>\n",
              "      <td>, Gerrard Road, Ikoyi, Lagos, Nigeria</td>\n",
              "      <td>4.0</td>\n",
              "      <td>Full Purchase</td>\n",
              "    </tr>\n",
              "  </tbody>\n",
              "</table>\n",
              "<p>404 rows × 5 columns</p>\n",
              "</div>"
            ],
            "text/plain": [
              "             price                     unit  ... bedrooms           desc\n",
              "8     ₦33000000.00          ₦33,000,000.00   ...      5.0  Full Purchase\n",
              "9     ₦30000000.00          ₦30,000,000.00   ...      8.0  Full Purchase\n",
              "10     ₦3750000.00   ₦3,750,000.00 Per Year  ...      3.0    Yearly Rent\n",
              "11    ₦40000000.00          ₦40,000,000.00   ...      5.0  Full Purchase\n",
              "12   ₦150000000.00         ₦150,000,000.00   ...      4.0  Full Purchase\n",
              "..             ...                      ...  ...      ...            ...\n",
              "685    ₦4000000.00   ₦4,000,000.00 Per Year  ...      4.0    Yearly Rent\n",
              "686   ₦70000000.00  ₦70,000,000.00 Per Year  ...      4.0    Yearly Rent\n",
              "691   ₦20000000.00          ₦20,000,000.00   ...      4.0  Full Purchase\n",
              "730    ₦5500000.00  ₦5,500,000.00 per month  ...      5.0   Monthly Rent\n",
              "731       $2500000              $2,500,000   ...      4.0  Full Purchase\n",
              "\n",
              "[404 rows x 5 columns]"
            ]
          },
          "metadata": {
            "tags": []
          },
          "execution_count": 262
        }
      ]
    },
    {
      "cell_type": "markdown",
      "metadata": {
        "id": "vSJWNY8M1818"
      },
      "source": [
        "After successfully creating a column for our leasing structure(Full Purchase, Yearly Rent, Monthly rent, and daily rent), it is important we create a column for the price currency because some are in Naira, and the others in American Dollars. "
      ]
    },
    {
      "cell_type": "code",
      "metadata": {
        "id": "0QAZpB2cEAPG"
      },
      "source": [
        "data['currency'] = data['price'].apply(lambda x: 'USD' if '$' in x else ('NGN' if '₦' in x else 'Non'))"
      ],
      "execution_count": 263,
      "outputs": []
    },
    {
      "cell_type": "code",
      "metadata": {
        "colab": {
          "base_uri": "https://localhost:8080/",
          "height": 416
        },
        "id": "seuwhYM-Kj-8",
        "outputId": "a2f29a8a-db3e-461c-c461-b7578e0b511e"
      },
      "source": [
        "data"
      ],
      "execution_count": 264,
      "outputs": [
        {
          "output_type": "execute_result",
          "data": {
            "text/html": [
              "<div>\n",
              "<style scoped>\n",
              "    .dataframe tbody tr th:only-of-type {\n",
              "        vertical-align: middle;\n",
              "    }\n",
              "\n",
              "    .dataframe tbody tr th {\n",
              "        vertical-align: top;\n",
              "    }\n",
              "\n",
              "    .dataframe thead th {\n",
              "        text-align: right;\n",
              "    }\n",
              "</style>\n",
              "<table border=\"1\" class=\"dataframe\">\n",
              "  <thead>\n",
              "    <tr style=\"text-align: right;\">\n",
              "      <th></th>\n",
              "      <th>price</th>\n",
              "      <th>unit</th>\n",
              "      <th>location</th>\n",
              "      <th>bedrooms</th>\n",
              "      <th>desc</th>\n",
              "      <th>currency</th>\n",
              "    </tr>\n",
              "  </thead>\n",
              "  <tbody>\n",
              "    <tr>\n",
              "      <th>8</th>\n",
              "      <td>₦33000000.00</td>\n",
              "      <td>₦33,000,000.00</td>\n",
              "      <td>, Alafia Bus stop, Badagry Express Way, Lagos,...</td>\n",
              "      <td>5.0</td>\n",
              "      <td>Full Purchase</td>\n",
              "      <td>NGN</td>\n",
              "    </tr>\n",
              "    <tr>\n",
              "      <th>9</th>\n",
              "      <td>₦30000000.00</td>\n",
              "      <td>₦30,000,000.00</td>\n",
              "      <td>, Alafia Bus stop, Badagry Express Way, Lagos,...</td>\n",
              "      <td>8.0</td>\n",
              "      <td>Full Purchase</td>\n",
              "      <td>NGN</td>\n",
              "    </tr>\n",
              "    <tr>\n",
              "      <th>10</th>\n",
              "      <td>₦3750000.00</td>\n",
              "      <td>₦3,750,000.00 Per Year</td>\n",
              "      <td>, jabi by eco bank, Jabi, Abuja FCT, Nigeria</td>\n",
              "      <td>3.0</td>\n",
              "      <td>Yearly Rent</td>\n",
              "      <td>NGN</td>\n",
              "    </tr>\n",
              "    <tr>\n",
              "      <th>11</th>\n",
              "      <td>₦40000000.00</td>\n",
              "      <td>₦40,000,000.00</td>\n",
              "      <td>, Alafia Bus stop, Badagry Express Way, Lagos,...</td>\n",
              "      <td>5.0</td>\n",
              "      <td>Full Purchase</td>\n",
              "      <td>NGN</td>\n",
              "    </tr>\n",
              "    <tr>\n",
              "      <th>12</th>\n",
              "      <td>₦150000000.00</td>\n",
              "      <td>₦150,000,000.00</td>\n",
              "      <td>, Oduduwa Crescent, Nigeria</td>\n",
              "      <td>4.0</td>\n",
              "      <td>Full Purchase</td>\n",
              "      <td>NGN</td>\n",
              "    </tr>\n",
              "    <tr>\n",
              "      <th>...</th>\n",
              "      <td>...</td>\n",
              "      <td>...</td>\n",
              "      <td>...</td>\n",
              "      <td>...</td>\n",
              "      <td>...</td>\n",
              "      <td>...</td>\n",
              "    </tr>\n",
              "    <tr>\n",
              "      <th>685</th>\n",
              "      <td>₦4000000.00</td>\n",
              "      <td>₦4,000,000.00 Per Year</td>\n",
              "      <td>, Femi Okunnu Estate, Nigeria</td>\n",
              "      <td>4.0</td>\n",
              "      <td>Yearly Rent</td>\n",
              "      <td>NGN</td>\n",
              "    </tr>\n",
              "    <tr>\n",
              "      <th>686</th>\n",
              "      <td>₦70000000.00</td>\n",
              "      <td>₦70,000,000.00 Per Year</td>\n",
              "      <td>, Oniru, Nigeria</td>\n",
              "      <td>4.0</td>\n",
              "      <td>Yearly Rent</td>\n",
              "      <td>NGN</td>\n",
              "    </tr>\n",
              "    <tr>\n",
              "      <th>691</th>\n",
              "      <td>₦20000000.00</td>\n",
              "      <td>₦20,000,000.00</td>\n",
              "      <td>, Peace Estate, Federal Govt. housing scheme, ...</td>\n",
              "      <td>4.0</td>\n",
              "      <td>Full Purchase</td>\n",
              "      <td>NGN</td>\n",
              "    </tr>\n",
              "    <tr>\n",
              "      <th>730</th>\n",
              "      <td>₦5500000.00</td>\n",
              "      <td>₦5,500,000.00 per month</td>\n",
              "      <td>, Lekki phase 1, Lekki Phase 1, Lagos, Nigeria</td>\n",
              "      <td>5.0</td>\n",
              "      <td>Monthly Rent</td>\n",
              "      <td>NGN</td>\n",
              "    </tr>\n",
              "    <tr>\n",
              "      <th>731</th>\n",
              "      <td>$2500000</td>\n",
              "      <td>$2,500,000</td>\n",
              "      <td>, Gerrard Road, Ikoyi, Lagos, Nigeria</td>\n",
              "      <td>4.0</td>\n",
              "      <td>Full Purchase</td>\n",
              "      <td>USD</td>\n",
              "    </tr>\n",
              "  </tbody>\n",
              "</table>\n",
              "<p>404 rows × 6 columns</p>\n",
              "</div>"
            ],
            "text/plain": [
              "             price                     unit  ...           desc  currency\n",
              "8     ₦33000000.00          ₦33,000,000.00   ...  Full Purchase       NGN\n",
              "9     ₦30000000.00          ₦30,000,000.00   ...  Full Purchase       NGN\n",
              "10     ₦3750000.00   ₦3,750,000.00 Per Year  ...    Yearly Rent       NGN\n",
              "11    ₦40000000.00          ₦40,000,000.00   ...  Full Purchase       NGN\n",
              "12   ₦150000000.00         ₦150,000,000.00   ...  Full Purchase       NGN\n",
              "..             ...                      ...  ...            ...       ...\n",
              "685    ₦4000000.00   ₦4,000,000.00 Per Year  ...    Yearly Rent       NGN\n",
              "686   ₦70000000.00  ₦70,000,000.00 Per Year  ...    Yearly Rent       NGN\n",
              "691   ₦20000000.00          ₦20,000,000.00   ...  Full Purchase       NGN\n",
              "730    ₦5500000.00  ₦5,500,000.00 per month  ...   Monthly Rent       NGN\n",
              "731       $2500000              $2,500,000   ...  Full Purchase       USD\n",
              "\n",
              "[404 rows x 6 columns]"
            ]
          },
          "metadata": {
            "tags": []
          },
          "execution_count": 264
        }
      ]
    },
    {
      "cell_type": "markdown",
      "metadata": {
        "id": "3JLSaVKr21aB"
      },
      "source": [
        "Getting the leasing type and currency out of the way, converting the prices in the dataset to a float will allow us to \n",
        "\n",
        "a. convert all priced in USD to NGN.\n",
        "\n",
        "b. convert all daily and monthly rents to yearly rents (for the rented appartments only. Others will be left untouched)."
      ]
    },
    {
      "cell_type": "code",
      "metadata": {
        "id": "MjGxFfNOFTJh"
      },
      "source": [
        "data['price'] = data['price'].str[1:]"
      ],
      "execution_count": 265,
      "outputs": []
    },
    {
      "cell_type": "code",
      "metadata": {
        "id": "39DQLIXcFcRP"
      },
      "source": [
        "data['price'] = pd.to_numeric(data['price'], downcast='float')"
      ],
      "execution_count": 266,
      "outputs": []
    },
    {
      "cell_type": "code",
      "metadata": {
        "colab": {
          "base_uri": "https://localhost:8080/",
          "height": 416
        },
        "id": "srq6U6mfGuyX",
        "outputId": "2065d5f0-3675-4b6d-e70e-8368c13034b2"
      },
      "source": [
        "data"
      ],
      "execution_count": 267,
      "outputs": [
        {
          "output_type": "execute_result",
          "data": {
            "text/html": [
              "<div>\n",
              "<style scoped>\n",
              "    .dataframe tbody tr th:only-of-type {\n",
              "        vertical-align: middle;\n",
              "    }\n",
              "\n",
              "    .dataframe tbody tr th {\n",
              "        vertical-align: top;\n",
              "    }\n",
              "\n",
              "    .dataframe thead th {\n",
              "        text-align: right;\n",
              "    }\n",
              "</style>\n",
              "<table border=\"1\" class=\"dataframe\">\n",
              "  <thead>\n",
              "    <tr style=\"text-align: right;\">\n",
              "      <th></th>\n",
              "      <th>price</th>\n",
              "      <th>unit</th>\n",
              "      <th>location</th>\n",
              "      <th>bedrooms</th>\n",
              "      <th>desc</th>\n",
              "      <th>currency</th>\n",
              "    </tr>\n",
              "  </thead>\n",
              "  <tbody>\n",
              "    <tr>\n",
              "      <th>8</th>\n",
              "      <td>33000000.0</td>\n",
              "      <td>₦33,000,000.00</td>\n",
              "      <td>, Alafia Bus stop, Badagry Express Way, Lagos,...</td>\n",
              "      <td>5.0</td>\n",
              "      <td>Full Purchase</td>\n",
              "      <td>NGN</td>\n",
              "    </tr>\n",
              "    <tr>\n",
              "      <th>9</th>\n",
              "      <td>30000000.0</td>\n",
              "      <td>₦30,000,000.00</td>\n",
              "      <td>, Alafia Bus stop, Badagry Express Way, Lagos,...</td>\n",
              "      <td>8.0</td>\n",
              "      <td>Full Purchase</td>\n",
              "      <td>NGN</td>\n",
              "    </tr>\n",
              "    <tr>\n",
              "      <th>10</th>\n",
              "      <td>3750000.0</td>\n",
              "      <td>₦3,750,000.00 Per Year</td>\n",
              "      <td>, jabi by eco bank, Jabi, Abuja FCT, Nigeria</td>\n",
              "      <td>3.0</td>\n",
              "      <td>Yearly Rent</td>\n",
              "      <td>NGN</td>\n",
              "    </tr>\n",
              "    <tr>\n",
              "      <th>11</th>\n",
              "      <td>40000000.0</td>\n",
              "      <td>₦40,000,000.00</td>\n",
              "      <td>, Alafia Bus stop, Badagry Express Way, Lagos,...</td>\n",
              "      <td>5.0</td>\n",
              "      <td>Full Purchase</td>\n",
              "      <td>NGN</td>\n",
              "    </tr>\n",
              "    <tr>\n",
              "      <th>12</th>\n",
              "      <td>150000000.0</td>\n",
              "      <td>₦150,000,000.00</td>\n",
              "      <td>, Oduduwa Crescent, Nigeria</td>\n",
              "      <td>4.0</td>\n",
              "      <td>Full Purchase</td>\n",
              "      <td>NGN</td>\n",
              "    </tr>\n",
              "    <tr>\n",
              "      <th>...</th>\n",
              "      <td>...</td>\n",
              "      <td>...</td>\n",
              "      <td>...</td>\n",
              "      <td>...</td>\n",
              "      <td>...</td>\n",
              "      <td>...</td>\n",
              "    </tr>\n",
              "    <tr>\n",
              "      <th>685</th>\n",
              "      <td>4000000.0</td>\n",
              "      <td>₦4,000,000.00 Per Year</td>\n",
              "      <td>, Femi Okunnu Estate, Nigeria</td>\n",
              "      <td>4.0</td>\n",
              "      <td>Yearly Rent</td>\n",
              "      <td>NGN</td>\n",
              "    </tr>\n",
              "    <tr>\n",
              "      <th>686</th>\n",
              "      <td>70000000.0</td>\n",
              "      <td>₦70,000,000.00 Per Year</td>\n",
              "      <td>, Oniru, Nigeria</td>\n",
              "      <td>4.0</td>\n",
              "      <td>Yearly Rent</td>\n",
              "      <td>NGN</td>\n",
              "    </tr>\n",
              "    <tr>\n",
              "      <th>691</th>\n",
              "      <td>20000000.0</td>\n",
              "      <td>₦20,000,000.00</td>\n",
              "      <td>, Peace Estate, Federal Govt. housing scheme, ...</td>\n",
              "      <td>4.0</td>\n",
              "      <td>Full Purchase</td>\n",
              "      <td>NGN</td>\n",
              "    </tr>\n",
              "    <tr>\n",
              "      <th>730</th>\n",
              "      <td>5500000.0</td>\n",
              "      <td>₦5,500,000.00 per month</td>\n",
              "      <td>, Lekki phase 1, Lekki Phase 1, Lagos, Nigeria</td>\n",
              "      <td>5.0</td>\n",
              "      <td>Monthly Rent</td>\n",
              "      <td>NGN</td>\n",
              "    </tr>\n",
              "    <tr>\n",
              "      <th>731</th>\n",
              "      <td>2500000.0</td>\n",
              "      <td>$2,500,000</td>\n",
              "      <td>, Gerrard Road, Ikoyi, Lagos, Nigeria</td>\n",
              "      <td>4.0</td>\n",
              "      <td>Full Purchase</td>\n",
              "      <td>USD</td>\n",
              "    </tr>\n",
              "  </tbody>\n",
              "</table>\n",
              "<p>404 rows × 6 columns</p>\n",
              "</div>"
            ],
            "text/plain": [
              "           price                     unit  ...           desc  currency\n",
              "8     33000000.0          ₦33,000,000.00   ...  Full Purchase       NGN\n",
              "9     30000000.0          ₦30,000,000.00   ...  Full Purchase       NGN\n",
              "10     3750000.0   ₦3,750,000.00 Per Year  ...    Yearly Rent       NGN\n",
              "11    40000000.0          ₦40,000,000.00   ...  Full Purchase       NGN\n",
              "12   150000000.0         ₦150,000,000.00   ...  Full Purchase       NGN\n",
              "..           ...                      ...  ...            ...       ...\n",
              "685    4000000.0   ₦4,000,000.00 Per Year  ...    Yearly Rent       NGN\n",
              "686   70000000.0  ₦70,000,000.00 Per Year  ...    Yearly Rent       NGN\n",
              "691   20000000.0          ₦20,000,000.00   ...  Full Purchase       NGN\n",
              "730    5500000.0  ₦5,500,000.00 per month  ...   Monthly Rent       NGN\n",
              "731    2500000.0              $2,500,000   ...  Full Purchase       USD\n",
              "\n",
              "[404 rows x 6 columns]"
            ]
          },
          "metadata": {
            "tags": []
          },
          "execution_count": 267
        }
      ]
    },
    {
      "cell_type": "code",
      "metadata": {
        "id": "z_tuLILvG0ZG"
      },
      "source": [
        "data['converted_price'] = np.where(data['currency'] == 'USD', data['price']*409.2, data['price'])"
      ],
      "execution_count": 268,
      "outputs": []
    },
    {
      "cell_type": "code",
      "metadata": {
        "colab": {
          "base_uri": "https://localhost:8080/",
          "height": 416
        },
        "id": "19KL0-HKJB-e",
        "outputId": "794fe574-01ea-46b7-aec7-513cd2f842ef"
      },
      "source": [
        "data"
      ],
      "execution_count": 269,
      "outputs": [
        {
          "output_type": "execute_result",
          "data": {
            "text/html": [
              "<div>\n",
              "<style scoped>\n",
              "    .dataframe tbody tr th:only-of-type {\n",
              "        vertical-align: middle;\n",
              "    }\n",
              "\n",
              "    .dataframe tbody tr th {\n",
              "        vertical-align: top;\n",
              "    }\n",
              "\n",
              "    .dataframe thead th {\n",
              "        text-align: right;\n",
              "    }\n",
              "</style>\n",
              "<table border=\"1\" class=\"dataframe\">\n",
              "  <thead>\n",
              "    <tr style=\"text-align: right;\">\n",
              "      <th></th>\n",
              "      <th>price</th>\n",
              "      <th>unit</th>\n",
              "      <th>location</th>\n",
              "      <th>bedrooms</th>\n",
              "      <th>desc</th>\n",
              "      <th>currency</th>\n",
              "      <th>converted_price</th>\n",
              "    </tr>\n",
              "  </thead>\n",
              "  <tbody>\n",
              "    <tr>\n",
              "      <th>8</th>\n",
              "      <td>33000000.0</td>\n",
              "      <td>₦33,000,000.00</td>\n",
              "      <td>, Alafia Bus stop, Badagry Express Way, Lagos,...</td>\n",
              "      <td>5.0</td>\n",
              "      <td>Full Purchase</td>\n",
              "      <td>NGN</td>\n",
              "      <td>3.300000e+07</td>\n",
              "    </tr>\n",
              "    <tr>\n",
              "      <th>9</th>\n",
              "      <td>30000000.0</td>\n",
              "      <td>₦30,000,000.00</td>\n",
              "      <td>, Alafia Bus stop, Badagry Express Way, Lagos,...</td>\n",
              "      <td>8.0</td>\n",
              "      <td>Full Purchase</td>\n",
              "      <td>NGN</td>\n",
              "      <td>3.000000e+07</td>\n",
              "    </tr>\n",
              "    <tr>\n",
              "      <th>10</th>\n",
              "      <td>3750000.0</td>\n",
              "      <td>₦3,750,000.00 Per Year</td>\n",
              "      <td>, jabi by eco bank, Jabi, Abuja FCT, Nigeria</td>\n",
              "      <td>3.0</td>\n",
              "      <td>Yearly Rent</td>\n",
              "      <td>NGN</td>\n",
              "      <td>3.750000e+06</td>\n",
              "    </tr>\n",
              "    <tr>\n",
              "      <th>11</th>\n",
              "      <td>40000000.0</td>\n",
              "      <td>₦40,000,000.00</td>\n",
              "      <td>, Alafia Bus stop, Badagry Express Way, Lagos,...</td>\n",
              "      <td>5.0</td>\n",
              "      <td>Full Purchase</td>\n",
              "      <td>NGN</td>\n",
              "      <td>4.000000e+07</td>\n",
              "    </tr>\n",
              "    <tr>\n",
              "      <th>12</th>\n",
              "      <td>150000000.0</td>\n",
              "      <td>₦150,000,000.00</td>\n",
              "      <td>, Oduduwa Crescent, Nigeria</td>\n",
              "      <td>4.0</td>\n",
              "      <td>Full Purchase</td>\n",
              "      <td>NGN</td>\n",
              "      <td>1.500000e+08</td>\n",
              "    </tr>\n",
              "    <tr>\n",
              "      <th>...</th>\n",
              "      <td>...</td>\n",
              "      <td>...</td>\n",
              "      <td>...</td>\n",
              "      <td>...</td>\n",
              "      <td>...</td>\n",
              "      <td>...</td>\n",
              "      <td>...</td>\n",
              "    </tr>\n",
              "    <tr>\n",
              "      <th>685</th>\n",
              "      <td>4000000.0</td>\n",
              "      <td>₦4,000,000.00 Per Year</td>\n",
              "      <td>, Femi Okunnu Estate, Nigeria</td>\n",
              "      <td>4.0</td>\n",
              "      <td>Yearly Rent</td>\n",
              "      <td>NGN</td>\n",
              "      <td>4.000000e+06</td>\n",
              "    </tr>\n",
              "    <tr>\n",
              "      <th>686</th>\n",
              "      <td>70000000.0</td>\n",
              "      <td>₦70,000,000.00 Per Year</td>\n",
              "      <td>, Oniru, Nigeria</td>\n",
              "      <td>4.0</td>\n",
              "      <td>Yearly Rent</td>\n",
              "      <td>NGN</td>\n",
              "      <td>7.000000e+07</td>\n",
              "    </tr>\n",
              "    <tr>\n",
              "      <th>691</th>\n",
              "      <td>20000000.0</td>\n",
              "      <td>₦20,000,000.00</td>\n",
              "      <td>, Peace Estate, Federal Govt. housing scheme, ...</td>\n",
              "      <td>4.0</td>\n",
              "      <td>Full Purchase</td>\n",
              "      <td>NGN</td>\n",
              "      <td>2.000000e+07</td>\n",
              "    </tr>\n",
              "    <tr>\n",
              "      <th>730</th>\n",
              "      <td>5500000.0</td>\n",
              "      <td>₦5,500,000.00 per month</td>\n",
              "      <td>, Lekki phase 1, Lekki Phase 1, Lagos, Nigeria</td>\n",
              "      <td>5.0</td>\n",
              "      <td>Monthly Rent</td>\n",
              "      <td>NGN</td>\n",
              "      <td>5.500000e+06</td>\n",
              "    </tr>\n",
              "    <tr>\n",
              "      <th>731</th>\n",
              "      <td>2500000.0</td>\n",
              "      <td>$2,500,000</td>\n",
              "      <td>, Gerrard Road, Ikoyi, Lagos, Nigeria</td>\n",
              "      <td>4.0</td>\n",
              "      <td>Full Purchase</td>\n",
              "      <td>USD</td>\n",
              "      <td>1.023000e+09</td>\n",
              "    </tr>\n",
              "  </tbody>\n",
              "</table>\n",
              "<p>404 rows × 7 columns</p>\n",
              "</div>"
            ],
            "text/plain": [
              "           price                     unit  ... currency  converted_price\n",
              "8     33000000.0          ₦33,000,000.00   ...      NGN     3.300000e+07\n",
              "9     30000000.0          ₦30,000,000.00   ...      NGN     3.000000e+07\n",
              "10     3750000.0   ₦3,750,000.00 Per Year  ...      NGN     3.750000e+06\n",
              "11    40000000.0          ₦40,000,000.00   ...      NGN     4.000000e+07\n",
              "12   150000000.0         ₦150,000,000.00   ...      NGN     1.500000e+08\n",
              "..           ...                      ...  ...      ...              ...\n",
              "685    4000000.0   ₦4,000,000.00 Per Year  ...      NGN     4.000000e+06\n",
              "686   70000000.0  ₦70,000,000.00 Per Year  ...      NGN     7.000000e+07\n",
              "691   20000000.0          ₦20,000,000.00   ...      NGN     2.000000e+07\n",
              "730    5500000.0  ₦5,500,000.00 per month  ...      NGN     5.500000e+06\n",
              "731    2500000.0              $2,500,000   ...      USD     1.023000e+09\n",
              "\n",
              "[404 rows x 7 columns]"
            ]
          },
          "metadata": {
            "tags": []
          },
          "execution_count": 269
        }
      ]
    },
    {
      "cell_type": "code",
      "metadata": {
        "id": "dS-ngNcOdOzK"
      },
      "source": [
        "data['tenure'] = data['desc']"
      ],
      "execution_count": 270,
      "outputs": []
    },
    {
      "cell_type": "code",
      "metadata": {
        "id": "UpCR9ADHd68A"
      },
      "source": [
        "data['converted_price'] = np.where(data['desc'] == 'Daily Rent', data['converted_price']*365, data['converted_price'])"
      ],
      "execution_count": 271,
      "outputs": []
    },
    {
      "cell_type": "code",
      "metadata": {
        "id": "q699E3D7O7U-"
      },
      "source": [
        "data['converted_price'] = np.where(data['desc'] == 'Monthly Rent', data['converted_price']*12, data['converted_price'])"
      ],
      "execution_count": 272,
      "outputs": []
    },
    {
      "cell_type": "code",
      "metadata": {
        "colab": {
          "base_uri": "https://localhost:8080/",
          "height": 416
        },
        "id": "_WrgTVHtP3va",
        "outputId": "d5bb15b9-1c1a-4a88-e7aa-248f19c14a01"
      },
      "source": [
        "data"
      ],
      "execution_count": 273,
      "outputs": [
        {
          "output_type": "execute_result",
          "data": {
            "text/html": [
              "<div>\n",
              "<style scoped>\n",
              "    .dataframe tbody tr th:only-of-type {\n",
              "        vertical-align: middle;\n",
              "    }\n",
              "\n",
              "    .dataframe tbody tr th {\n",
              "        vertical-align: top;\n",
              "    }\n",
              "\n",
              "    .dataframe thead th {\n",
              "        text-align: right;\n",
              "    }\n",
              "</style>\n",
              "<table border=\"1\" class=\"dataframe\">\n",
              "  <thead>\n",
              "    <tr style=\"text-align: right;\">\n",
              "      <th></th>\n",
              "      <th>price</th>\n",
              "      <th>unit</th>\n",
              "      <th>location</th>\n",
              "      <th>bedrooms</th>\n",
              "      <th>desc</th>\n",
              "      <th>currency</th>\n",
              "      <th>converted_price</th>\n",
              "      <th>tenure</th>\n",
              "    </tr>\n",
              "  </thead>\n",
              "  <tbody>\n",
              "    <tr>\n",
              "      <th>8</th>\n",
              "      <td>33000000.0</td>\n",
              "      <td>₦33,000,000.00</td>\n",
              "      <td>, Alafia Bus stop, Badagry Express Way, Lagos,...</td>\n",
              "      <td>5.0</td>\n",
              "      <td>Full Purchase</td>\n",
              "      <td>NGN</td>\n",
              "      <td>3.300000e+07</td>\n",
              "      <td>Full Purchase</td>\n",
              "    </tr>\n",
              "    <tr>\n",
              "      <th>9</th>\n",
              "      <td>30000000.0</td>\n",
              "      <td>₦30,000,000.00</td>\n",
              "      <td>, Alafia Bus stop, Badagry Express Way, Lagos,...</td>\n",
              "      <td>8.0</td>\n",
              "      <td>Full Purchase</td>\n",
              "      <td>NGN</td>\n",
              "      <td>3.000000e+07</td>\n",
              "      <td>Full Purchase</td>\n",
              "    </tr>\n",
              "    <tr>\n",
              "      <th>10</th>\n",
              "      <td>3750000.0</td>\n",
              "      <td>₦3,750,000.00 Per Year</td>\n",
              "      <td>, jabi by eco bank, Jabi, Abuja FCT, Nigeria</td>\n",
              "      <td>3.0</td>\n",
              "      <td>Yearly Rent</td>\n",
              "      <td>NGN</td>\n",
              "      <td>3.750000e+06</td>\n",
              "      <td>Yearly Rent</td>\n",
              "    </tr>\n",
              "    <tr>\n",
              "      <th>11</th>\n",
              "      <td>40000000.0</td>\n",
              "      <td>₦40,000,000.00</td>\n",
              "      <td>, Alafia Bus stop, Badagry Express Way, Lagos,...</td>\n",
              "      <td>5.0</td>\n",
              "      <td>Full Purchase</td>\n",
              "      <td>NGN</td>\n",
              "      <td>4.000000e+07</td>\n",
              "      <td>Full Purchase</td>\n",
              "    </tr>\n",
              "    <tr>\n",
              "      <th>12</th>\n",
              "      <td>150000000.0</td>\n",
              "      <td>₦150,000,000.00</td>\n",
              "      <td>, Oduduwa Crescent, Nigeria</td>\n",
              "      <td>4.0</td>\n",
              "      <td>Full Purchase</td>\n",
              "      <td>NGN</td>\n",
              "      <td>1.500000e+08</td>\n",
              "      <td>Full Purchase</td>\n",
              "    </tr>\n",
              "    <tr>\n",
              "      <th>...</th>\n",
              "      <td>...</td>\n",
              "      <td>...</td>\n",
              "      <td>...</td>\n",
              "      <td>...</td>\n",
              "      <td>...</td>\n",
              "      <td>...</td>\n",
              "      <td>...</td>\n",
              "      <td>...</td>\n",
              "    </tr>\n",
              "    <tr>\n",
              "      <th>685</th>\n",
              "      <td>4000000.0</td>\n",
              "      <td>₦4,000,000.00 Per Year</td>\n",
              "      <td>, Femi Okunnu Estate, Nigeria</td>\n",
              "      <td>4.0</td>\n",
              "      <td>Yearly Rent</td>\n",
              "      <td>NGN</td>\n",
              "      <td>4.000000e+06</td>\n",
              "      <td>Yearly Rent</td>\n",
              "    </tr>\n",
              "    <tr>\n",
              "      <th>686</th>\n",
              "      <td>70000000.0</td>\n",
              "      <td>₦70,000,000.00 Per Year</td>\n",
              "      <td>, Oniru, Nigeria</td>\n",
              "      <td>4.0</td>\n",
              "      <td>Yearly Rent</td>\n",
              "      <td>NGN</td>\n",
              "      <td>7.000000e+07</td>\n",
              "      <td>Yearly Rent</td>\n",
              "    </tr>\n",
              "    <tr>\n",
              "      <th>691</th>\n",
              "      <td>20000000.0</td>\n",
              "      <td>₦20,000,000.00</td>\n",
              "      <td>, Peace Estate, Federal Govt. housing scheme, ...</td>\n",
              "      <td>4.0</td>\n",
              "      <td>Full Purchase</td>\n",
              "      <td>NGN</td>\n",
              "      <td>2.000000e+07</td>\n",
              "      <td>Full Purchase</td>\n",
              "    </tr>\n",
              "    <tr>\n",
              "      <th>730</th>\n",
              "      <td>5500000.0</td>\n",
              "      <td>₦5,500,000.00 per month</td>\n",
              "      <td>, Lekki phase 1, Lekki Phase 1, Lagos, Nigeria</td>\n",
              "      <td>5.0</td>\n",
              "      <td>Monthly Rent</td>\n",
              "      <td>NGN</td>\n",
              "      <td>6.600000e+07</td>\n",
              "      <td>Monthly Rent</td>\n",
              "    </tr>\n",
              "    <tr>\n",
              "      <th>731</th>\n",
              "      <td>2500000.0</td>\n",
              "      <td>$2,500,000</td>\n",
              "      <td>, Gerrard Road, Ikoyi, Lagos, Nigeria</td>\n",
              "      <td>4.0</td>\n",
              "      <td>Full Purchase</td>\n",
              "      <td>USD</td>\n",
              "      <td>1.023000e+09</td>\n",
              "      <td>Full Purchase</td>\n",
              "    </tr>\n",
              "  </tbody>\n",
              "</table>\n",
              "<p>404 rows × 8 columns</p>\n",
              "</div>"
            ],
            "text/plain": [
              "           price                     unit  ... converted_price         tenure\n",
              "8     33000000.0          ₦33,000,000.00   ...    3.300000e+07  Full Purchase\n",
              "9     30000000.0          ₦30,000,000.00   ...    3.000000e+07  Full Purchase\n",
              "10     3750000.0   ₦3,750,000.00 Per Year  ...    3.750000e+06    Yearly Rent\n",
              "11    40000000.0          ₦40,000,000.00   ...    4.000000e+07  Full Purchase\n",
              "12   150000000.0         ₦150,000,000.00   ...    1.500000e+08  Full Purchase\n",
              "..           ...                      ...  ...             ...            ...\n",
              "685    4000000.0   ₦4,000,000.00 Per Year  ...    4.000000e+06    Yearly Rent\n",
              "686   70000000.0  ₦70,000,000.00 Per Year  ...    7.000000e+07    Yearly Rent\n",
              "691   20000000.0          ₦20,000,000.00   ...    2.000000e+07  Full Purchase\n",
              "730    5500000.0  ₦5,500,000.00 per month  ...    6.600000e+07   Monthly Rent\n",
              "731    2500000.0              $2,500,000   ...    1.023000e+09  Full Purchase\n",
              "\n",
              "[404 rows x 8 columns]"
            ]
          },
          "metadata": {
            "tags": []
          },
          "execution_count": 273
        }
      ]
    },
    {
      "cell_type": "markdown",
      "metadata": {
        "id": "NtRvVGEc4MFN"
      },
      "source": [
        "Now all rented appertments have been converted to Yearly rents in NGN. I have also created another column called Tenure which holds the original lease types of each apartments in our dataset. \n",
        "We can now change all lease types in our initial description 'desc' (except for 'Full Purchase') to a uniform Yearly Rent.\n",
        "This will assist us as we seek to get the estimated sales price for all properties in our dataset."
      ]
    },
    {
      "cell_type": "code",
      "metadata": {
        "id": "WWwIkAF8TFd5"
      },
      "source": [
        "data['desc'] = data['desc'].str.replace('Monthly Rent', 'Yearly Rent')"
      ],
      "execution_count": 274,
      "outputs": []
    },
    {
      "cell_type": "code",
      "metadata": {
        "colab": {
          "base_uri": "https://localhost:8080/",
          "height": 416
        },
        "id": "aMhTUrSlUV1f",
        "outputId": "2fb5e872-af03-406c-c694-ecb9a4cfcb94"
      },
      "source": [
        "data"
      ],
      "execution_count": 275,
      "outputs": [
        {
          "output_type": "execute_result",
          "data": {
            "text/html": [
              "<div>\n",
              "<style scoped>\n",
              "    .dataframe tbody tr th:only-of-type {\n",
              "        vertical-align: middle;\n",
              "    }\n",
              "\n",
              "    .dataframe tbody tr th {\n",
              "        vertical-align: top;\n",
              "    }\n",
              "\n",
              "    .dataframe thead th {\n",
              "        text-align: right;\n",
              "    }\n",
              "</style>\n",
              "<table border=\"1\" class=\"dataframe\">\n",
              "  <thead>\n",
              "    <tr style=\"text-align: right;\">\n",
              "      <th></th>\n",
              "      <th>price</th>\n",
              "      <th>unit</th>\n",
              "      <th>location</th>\n",
              "      <th>bedrooms</th>\n",
              "      <th>desc</th>\n",
              "      <th>currency</th>\n",
              "      <th>converted_price</th>\n",
              "      <th>tenure</th>\n",
              "    </tr>\n",
              "  </thead>\n",
              "  <tbody>\n",
              "    <tr>\n",
              "      <th>8</th>\n",
              "      <td>33000000.0</td>\n",
              "      <td>₦33,000,000.00</td>\n",
              "      <td>, Alafia Bus stop, Badagry Express Way, Lagos,...</td>\n",
              "      <td>5.0</td>\n",
              "      <td>Full Purchase</td>\n",
              "      <td>NGN</td>\n",
              "      <td>3.300000e+07</td>\n",
              "      <td>Full Purchase</td>\n",
              "    </tr>\n",
              "    <tr>\n",
              "      <th>9</th>\n",
              "      <td>30000000.0</td>\n",
              "      <td>₦30,000,000.00</td>\n",
              "      <td>, Alafia Bus stop, Badagry Express Way, Lagos,...</td>\n",
              "      <td>8.0</td>\n",
              "      <td>Full Purchase</td>\n",
              "      <td>NGN</td>\n",
              "      <td>3.000000e+07</td>\n",
              "      <td>Full Purchase</td>\n",
              "    </tr>\n",
              "    <tr>\n",
              "      <th>10</th>\n",
              "      <td>3750000.0</td>\n",
              "      <td>₦3,750,000.00 Per Year</td>\n",
              "      <td>, jabi by eco bank, Jabi, Abuja FCT, Nigeria</td>\n",
              "      <td>3.0</td>\n",
              "      <td>Yearly Rent</td>\n",
              "      <td>NGN</td>\n",
              "      <td>3.750000e+06</td>\n",
              "      <td>Yearly Rent</td>\n",
              "    </tr>\n",
              "    <tr>\n",
              "      <th>11</th>\n",
              "      <td>40000000.0</td>\n",
              "      <td>₦40,000,000.00</td>\n",
              "      <td>, Alafia Bus stop, Badagry Express Way, Lagos,...</td>\n",
              "      <td>5.0</td>\n",
              "      <td>Full Purchase</td>\n",
              "      <td>NGN</td>\n",
              "      <td>4.000000e+07</td>\n",
              "      <td>Full Purchase</td>\n",
              "    </tr>\n",
              "    <tr>\n",
              "      <th>12</th>\n",
              "      <td>150000000.0</td>\n",
              "      <td>₦150,000,000.00</td>\n",
              "      <td>, Oduduwa Crescent, Nigeria</td>\n",
              "      <td>4.0</td>\n",
              "      <td>Full Purchase</td>\n",
              "      <td>NGN</td>\n",
              "      <td>1.500000e+08</td>\n",
              "      <td>Full Purchase</td>\n",
              "    </tr>\n",
              "    <tr>\n",
              "      <th>...</th>\n",
              "      <td>...</td>\n",
              "      <td>...</td>\n",
              "      <td>...</td>\n",
              "      <td>...</td>\n",
              "      <td>...</td>\n",
              "      <td>...</td>\n",
              "      <td>...</td>\n",
              "      <td>...</td>\n",
              "    </tr>\n",
              "    <tr>\n",
              "      <th>685</th>\n",
              "      <td>4000000.0</td>\n",
              "      <td>₦4,000,000.00 Per Year</td>\n",
              "      <td>, Femi Okunnu Estate, Nigeria</td>\n",
              "      <td>4.0</td>\n",
              "      <td>Yearly Rent</td>\n",
              "      <td>NGN</td>\n",
              "      <td>4.000000e+06</td>\n",
              "      <td>Yearly Rent</td>\n",
              "    </tr>\n",
              "    <tr>\n",
              "      <th>686</th>\n",
              "      <td>70000000.0</td>\n",
              "      <td>₦70,000,000.00 Per Year</td>\n",
              "      <td>, Oniru, Nigeria</td>\n",
              "      <td>4.0</td>\n",
              "      <td>Yearly Rent</td>\n",
              "      <td>NGN</td>\n",
              "      <td>7.000000e+07</td>\n",
              "      <td>Yearly Rent</td>\n",
              "    </tr>\n",
              "    <tr>\n",
              "      <th>691</th>\n",
              "      <td>20000000.0</td>\n",
              "      <td>₦20,000,000.00</td>\n",
              "      <td>, Peace Estate, Federal Govt. housing scheme, ...</td>\n",
              "      <td>4.0</td>\n",
              "      <td>Full Purchase</td>\n",
              "      <td>NGN</td>\n",
              "      <td>2.000000e+07</td>\n",
              "      <td>Full Purchase</td>\n",
              "    </tr>\n",
              "    <tr>\n",
              "      <th>730</th>\n",
              "      <td>5500000.0</td>\n",
              "      <td>₦5,500,000.00 per month</td>\n",
              "      <td>, Lekki phase 1, Lekki Phase 1, Lagos, Nigeria</td>\n",
              "      <td>5.0</td>\n",
              "      <td>Yearly Rent</td>\n",
              "      <td>NGN</td>\n",
              "      <td>6.600000e+07</td>\n",
              "      <td>Monthly Rent</td>\n",
              "    </tr>\n",
              "    <tr>\n",
              "      <th>731</th>\n",
              "      <td>2500000.0</td>\n",
              "      <td>$2,500,000</td>\n",
              "      <td>, Gerrard Road, Ikoyi, Lagos, Nigeria</td>\n",
              "      <td>4.0</td>\n",
              "      <td>Full Purchase</td>\n",
              "      <td>USD</td>\n",
              "      <td>1.023000e+09</td>\n",
              "      <td>Full Purchase</td>\n",
              "    </tr>\n",
              "  </tbody>\n",
              "</table>\n",
              "<p>404 rows × 8 columns</p>\n",
              "</div>"
            ],
            "text/plain": [
              "           price                     unit  ... converted_price         tenure\n",
              "8     33000000.0          ₦33,000,000.00   ...    3.300000e+07  Full Purchase\n",
              "9     30000000.0          ₦30,000,000.00   ...    3.000000e+07  Full Purchase\n",
              "10     3750000.0   ₦3,750,000.00 Per Year  ...    3.750000e+06    Yearly Rent\n",
              "11    40000000.0          ₦40,000,000.00   ...    4.000000e+07  Full Purchase\n",
              "12   150000000.0         ₦150,000,000.00   ...    1.500000e+08  Full Purchase\n",
              "..           ...                      ...  ...             ...            ...\n",
              "685    4000000.0   ₦4,000,000.00 Per Year  ...    4.000000e+06    Yearly Rent\n",
              "686   70000000.0  ₦70,000,000.00 Per Year  ...    7.000000e+07    Yearly Rent\n",
              "691   20000000.0          ₦20,000,000.00   ...    2.000000e+07  Full Purchase\n",
              "730    5500000.0  ₦5,500,000.00 per month  ...    6.600000e+07   Monthly Rent\n",
              "731    2500000.0              $2,500,000   ...    1.023000e+09  Full Purchase\n",
              "\n",
              "[404 rows x 8 columns]"
            ]
          },
          "metadata": {
            "tags": []
          },
          "execution_count": 275
        }
      ]
    },
    {
      "cell_type": "markdown",
      "metadata": {
        "id": "zSJA6lZtQFqy"
      },
      "source": [
        "In real estate, the sales price of buildings can be estimated from their annual rent prices using a tool called **Average Annual Capitalisation Rate**.\n",
        "source: https://www.linkedin.com/pulse/property-market-lagos-growth-development-risk-nigerias-millard/\n",
        "\n",
        "Using average annual capitalization rate for Lagos State (info could not be gotten  for the entire country) to get the price of those rentals that are paid yearly. AACR of lagos is between 3% to 10%. My estimation of 6.5% will cover for both the high and low areas.\n",
        "This tool was used to the estimated sales price for each appartment and saved in a new column called 'es_sales_price'"
      ]
    },
    {
      "cell_type": "code",
      "metadata": {
        "id": "3yicBA7aQEVZ"
      },
      "source": [
        "data['es_sales_price'] = np.where(data['desc'] == 'Yearly Rent', data['converted_price']/0.065, data['converted_price'])"
      ],
      "execution_count": 276,
      "outputs": []
    },
    {
      "cell_type": "code",
      "metadata": {
        "colab": {
          "base_uri": "https://localhost:8080/",
          "height": 416
        },
        "id": "Vy4B0ZSfWBKv",
        "outputId": "93def3ff-4729-422b-f4a4-20a0f5595a59"
      },
      "source": [
        "data"
      ],
      "execution_count": 277,
      "outputs": [
        {
          "output_type": "execute_result",
          "data": {
            "text/html": [
              "<div>\n",
              "<style scoped>\n",
              "    .dataframe tbody tr th:only-of-type {\n",
              "        vertical-align: middle;\n",
              "    }\n",
              "\n",
              "    .dataframe tbody tr th {\n",
              "        vertical-align: top;\n",
              "    }\n",
              "\n",
              "    .dataframe thead th {\n",
              "        text-align: right;\n",
              "    }\n",
              "</style>\n",
              "<table border=\"1\" class=\"dataframe\">\n",
              "  <thead>\n",
              "    <tr style=\"text-align: right;\">\n",
              "      <th></th>\n",
              "      <th>price</th>\n",
              "      <th>unit</th>\n",
              "      <th>location</th>\n",
              "      <th>bedrooms</th>\n",
              "      <th>desc</th>\n",
              "      <th>currency</th>\n",
              "      <th>converted_price</th>\n",
              "      <th>tenure</th>\n",
              "      <th>es_sales_price</th>\n",
              "    </tr>\n",
              "  </thead>\n",
              "  <tbody>\n",
              "    <tr>\n",
              "      <th>8</th>\n",
              "      <td>33000000.0</td>\n",
              "      <td>₦33,000,000.00</td>\n",
              "      <td>, Alafia Bus stop, Badagry Express Way, Lagos,...</td>\n",
              "      <td>5.0</td>\n",
              "      <td>Full Purchase</td>\n",
              "      <td>NGN</td>\n",
              "      <td>3.300000e+07</td>\n",
              "      <td>Full Purchase</td>\n",
              "      <td>3.300000e+07</td>\n",
              "    </tr>\n",
              "    <tr>\n",
              "      <th>9</th>\n",
              "      <td>30000000.0</td>\n",
              "      <td>₦30,000,000.00</td>\n",
              "      <td>, Alafia Bus stop, Badagry Express Way, Lagos,...</td>\n",
              "      <td>8.0</td>\n",
              "      <td>Full Purchase</td>\n",
              "      <td>NGN</td>\n",
              "      <td>3.000000e+07</td>\n",
              "      <td>Full Purchase</td>\n",
              "      <td>3.000000e+07</td>\n",
              "    </tr>\n",
              "    <tr>\n",
              "      <th>10</th>\n",
              "      <td>3750000.0</td>\n",
              "      <td>₦3,750,000.00 Per Year</td>\n",
              "      <td>, jabi by eco bank, Jabi, Abuja FCT, Nigeria</td>\n",
              "      <td>3.0</td>\n",
              "      <td>Yearly Rent</td>\n",
              "      <td>NGN</td>\n",
              "      <td>3.750000e+06</td>\n",
              "      <td>Yearly Rent</td>\n",
              "      <td>5.769231e+07</td>\n",
              "    </tr>\n",
              "    <tr>\n",
              "      <th>11</th>\n",
              "      <td>40000000.0</td>\n",
              "      <td>₦40,000,000.00</td>\n",
              "      <td>, Alafia Bus stop, Badagry Express Way, Lagos,...</td>\n",
              "      <td>5.0</td>\n",
              "      <td>Full Purchase</td>\n",
              "      <td>NGN</td>\n",
              "      <td>4.000000e+07</td>\n",
              "      <td>Full Purchase</td>\n",
              "      <td>4.000000e+07</td>\n",
              "    </tr>\n",
              "    <tr>\n",
              "      <th>12</th>\n",
              "      <td>150000000.0</td>\n",
              "      <td>₦150,000,000.00</td>\n",
              "      <td>, Oduduwa Crescent, Nigeria</td>\n",
              "      <td>4.0</td>\n",
              "      <td>Full Purchase</td>\n",
              "      <td>NGN</td>\n",
              "      <td>1.500000e+08</td>\n",
              "      <td>Full Purchase</td>\n",
              "      <td>1.500000e+08</td>\n",
              "    </tr>\n",
              "    <tr>\n",
              "      <th>...</th>\n",
              "      <td>...</td>\n",
              "      <td>...</td>\n",
              "      <td>...</td>\n",
              "      <td>...</td>\n",
              "      <td>...</td>\n",
              "      <td>...</td>\n",
              "      <td>...</td>\n",
              "      <td>...</td>\n",
              "      <td>...</td>\n",
              "    </tr>\n",
              "    <tr>\n",
              "      <th>685</th>\n",
              "      <td>4000000.0</td>\n",
              "      <td>₦4,000,000.00 Per Year</td>\n",
              "      <td>, Femi Okunnu Estate, Nigeria</td>\n",
              "      <td>4.0</td>\n",
              "      <td>Yearly Rent</td>\n",
              "      <td>NGN</td>\n",
              "      <td>4.000000e+06</td>\n",
              "      <td>Yearly Rent</td>\n",
              "      <td>6.153846e+07</td>\n",
              "    </tr>\n",
              "    <tr>\n",
              "      <th>686</th>\n",
              "      <td>70000000.0</td>\n",
              "      <td>₦70,000,000.00 Per Year</td>\n",
              "      <td>, Oniru, Nigeria</td>\n",
              "      <td>4.0</td>\n",
              "      <td>Yearly Rent</td>\n",
              "      <td>NGN</td>\n",
              "      <td>7.000000e+07</td>\n",
              "      <td>Yearly Rent</td>\n",
              "      <td>1.076923e+09</td>\n",
              "    </tr>\n",
              "    <tr>\n",
              "      <th>691</th>\n",
              "      <td>20000000.0</td>\n",
              "      <td>₦20,000,000.00</td>\n",
              "      <td>, Peace Estate, Federal Govt. housing scheme, ...</td>\n",
              "      <td>4.0</td>\n",
              "      <td>Full Purchase</td>\n",
              "      <td>NGN</td>\n",
              "      <td>2.000000e+07</td>\n",
              "      <td>Full Purchase</td>\n",
              "      <td>2.000000e+07</td>\n",
              "    </tr>\n",
              "    <tr>\n",
              "      <th>730</th>\n",
              "      <td>5500000.0</td>\n",
              "      <td>₦5,500,000.00 per month</td>\n",
              "      <td>, Lekki phase 1, Lekki Phase 1, Lagos, Nigeria</td>\n",
              "      <td>5.0</td>\n",
              "      <td>Yearly Rent</td>\n",
              "      <td>NGN</td>\n",
              "      <td>6.600000e+07</td>\n",
              "      <td>Monthly Rent</td>\n",
              "      <td>1.015385e+09</td>\n",
              "    </tr>\n",
              "    <tr>\n",
              "      <th>731</th>\n",
              "      <td>2500000.0</td>\n",
              "      <td>$2,500,000</td>\n",
              "      <td>, Gerrard Road, Ikoyi, Lagos, Nigeria</td>\n",
              "      <td>4.0</td>\n",
              "      <td>Full Purchase</td>\n",
              "      <td>USD</td>\n",
              "      <td>1.023000e+09</td>\n",
              "      <td>Full Purchase</td>\n",
              "      <td>1.023000e+09</td>\n",
              "    </tr>\n",
              "  </tbody>\n",
              "</table>\n",
              "<p>404 rows × 9 columns</p>\n",
              "</div>"
            ],
            "text/plain": [
              "           price                     unit  ...         tenure  es_sales_price\n",
              "8     33000000.0          ₦33,000,000.00   ...  Full Purchase    3.300000e+07\n",
              "9     30000000.0          ₦30,000,000.00   ...  Full Purchase    3.000000e+07\n",
              "10     3750000.0   ₦3,750,000.00 Per Year  ...    Yearly Rent    5.769231e+07\n",
              "11    40000000.0          ₦40,000,000.00   ...  Full Purchase    4.000000e+07\n",
              "12   150000000.0         ₦150,000,000.00   ...  Full Purchase    1.500000e+08\n",
              "..           ...                      ...  ...            ...             ...\n",
              "685    4000000.0   ₦4,000,000.00 Per Year  ...    Yearly Rent    6.153846e+07\n",
              "686   70000000.0  ₦70,000,000.00 Per Year  ...    Yearly Rent    1.076923e+09\n",
              "691   20000000.0          ₦20,000,000.00   ...  Full Purchase    2.000000e+07\n",
              "730    5500000.0  ₦5,500,000.00 per month  ...   Monthly Rent    1.015385e+09\n",
              "731    2500000.0              $2,500,000   ...  Full Purchase    1.023000e+09\n",
              "\n",
              "[404 rows x 9 columns]"
            ]
          },
          "metadata": {
            "tags": []
          },
          "execution_count": 277
        }
      ]
    },
    {
      "cell_type": "code",
      "metadata": {
        "id": "3dfGRJaZYiDv"
      },
      "source": [
        "data['original_price'] = data['unit']"
      ],
      "execution_count": 278,
      "outputs": []
    },
    {
      "cell_type": "code",
      "metadata": {
        "id": "IOHeaFZ3iCXp"
      },
      "source": [
        "data = data.drop(columns=['desc', 'currency', 'price', 'unit'])"
      ],
      "execution_count": 279,
      "outputs": []
    },
    {
      "cell_type": "code",
      "metadata": {
        "colab": {
          "base_uri": "https://localhost:8080/",
          "height": 416
        },
        "id": "-Ug8SEVBik6u",
        "outputId": "41300a5a-330c-4aa8-e87a-b9183bc77e40"
      },
      "source": [
        "data"
      ],
      "execution_count": 280,
      "outputs": [
        {
          "output_type": "execute_result",
          "data": {
            "text/html": [
              "<div>\n",
              "<style scoped>\n",
              "    .dataframe tbody tr th:only-of-type {\n",
              "        vertical-align: middle;\n",
              "    }\n",
              "\n",
              "    .dataframe tbody tr th {\n",
              "        vertical-align: top;\n",
              "    }\n",
              "\n",
              "    .dataframe thead th {\n",
              "        text-align: right;\n",
              "    }\n",
              "</style>\n",
              "<table border=\"1\" class=\"dataframe\">\n",
              "  <thead>\n",
              "    <tr style=\"text-align: right;\">\n",
              "      <th></th>\n",
              "      <th>location</th>\n",
              "      <th>bedrooms</th>\n",
              "      <th>converted_price</th>\n",
              "      <th>tenure</th>\n",
              "      <th>es_sales_price</th>\n",
              "      <th>original_price</th>\n",
              "    </tr>\n",
              "  </thead>\n",
              "  <tbody>\n",
              "    <tr>\n",
              "      <th>8</th>\n",
              "      <td>, Alafia Bus stop, Badagry Express Way, Lagos,...</td>\n",
              "      <td>5.0</td>\n",
              "      <td>3.300000e+07</td>\n",
              "      <td>Full Purchase</td>\n",
              "      <td>3.300000e+07</td>\n",
              "      <td>₦33,000,000.00</td>\n",
              "    </tr>\n",
              "    <tr>\n",
              "      <th>9</th>\n",
              "      <td>, Alafia Bus stop, Badagry Express Way, Lagos,...</td>\n",
              "      <td>8.0</td>\n",
              "      <td>3.000000e+07</td>\n",
              "      <td>Full Purchase</td>\n",
              "      <td>3.000000e+07</td>\n",
              "      <td>₦30,000,000.00</td>\n",
              "    </tr>\n",
              "    <tr>\n",
              "      <th>10</th>\n",
              "      <td>, jabi by eco bank, Jabi, Abuja FCT, Nigeria</td>\n",
              "      <td>3.0</td>\n",
              "      <td>3.750000e+06</td>\n",
              "      <td>Yearly Rent</td>\n",
              "      <td>5.769231e+07</td>\n",
              "      <td>₦3,750,000.00 Per Year</td>\n",
              "    </tr>\n",
              "    <tr>\n",
              "      <th>11</th>\n",
              "      <td>, Alafia Bus stop, Badagry Express Way, Lagos,...</td>\n",
              "      <td>5.0</td>\n",
              "      <td>4.000000e+07</td>\n",
              "      <td>Full Purchase</td>\n",
              "      <td>4.000000e+07</td>\n",
              "      <td>₦40,000,000.00</td>\n",
              "    </tr>\n",
              "    <tr>\n",
              "      <th>12</th>\n",
              "      <td>, Oduduwa Crescent, Nigeria</td>\n",
              "      <td>4.0</td>\n",
              "      <td>1.500000e+08</td>\n",
              "      <td>Full Purchase</td>\n",
              "      <td>1.500000e+08</td>\n",
              "      <td>₦150,000,000.00</td>\n",
              "    </tr>\n",
              "    <tr>\n",
              "      <th>...</th>\n",
              "      <td>...</td>\n",
              "      <td>...</td>\n",
              "      <td>...</td>\n",
              "      <td>...</td>\n",
              "      <td>...</td>\n",
              "      <td>...</td>\n",
              "    </tr>\n",
              "    <tr>\n",
              "      <th>685</th>\n",
              "      <td>, Femi Okunnu Estate, Nigeria</td>\n",
              "      <td>4.0</td>\n",
              "      <td>4.000000e+06</td>\n",
              "      <td>Yearly Rent</td>\n",
              "      <td>6.153846e+07</td>\n",
              "      <td>₦4,000,000.00 Per Year</td>\n",
              "    </tr>\n",
              "    <tr>\n",
              "      <th>686</th>\n",
              "      <td>, Oniru, Nigeria</td>\n",
              "      <td>4.0</td>\n",
              "      <td>7.000000e+07</td>\n",
              "      <td>Yearly Rent</td>\n",
              "      <td>1.076923e+09</td>\n",
              "      <td>₦70,000,000.00 Per Year</td>\n",
              "    </tr>\n",
              "    <tr>\n",
              "      <th>691</th>\n",
              "      <td>, Peace Estate, Federal Govt. housing scheme, ...</td>\n",
              "      <td>4.0</td>\n",
              "      <td>2.000000e+07</td>\n",
              "      <td>Full Purchase</td>\n",
              "      <td>2.000000e+07</td>\n",
              "      <td>₦20,000,000.00</td>\n",
              "    </tr>\n",
              "    <tr>\n",
              "      <th>730</th>\n",
              "      <td>, Lekki phase 1, Lekki Phase 1, Lagos, Nigeria</td>\n",
              "      <td>5.0</td>\n",
              "      <td>6.600000e+07</td>\n",
              "      <td>Monthly Rent</td>\n",
              "      <td>1.015385e+09</td>\n",
              "      <td>₦5,500,000.00 per month</td>\n",
              "    </tr>\n",
              "    <tr>\n",
              "      <th>731</th>\n",
              "      <td>, Gerrard Road, Ikoyi, Lagos, Nigeria</td>\n",
              "      <td>4.0</td>\n",
              "      <td>1.023000e+09</td>\n",
              "      <td>Full Purchase</td>\n",
              "      <td>1.023000e+09</td>\n",
              "      <td>$2,500,000</td>\n",
              "    </tr>\n",
              "  </tbody>\n",
              "</table>\n",
              "<p>404 rows × 6 columns</p>\n",
              "</div>"
            ],
            "text/plain": [
              "                                              location  ...           original_price\n",
              "8    , Alafia Bus stop, Badagry Express Way, Lagos,...  ...          ₦33,000,000.00 \n",
              "9    , Alafia Bus stop, Badagry Express Way, Lagos,...  ...          ₦30,000,000.00 \n",
              "10        , jabi by eco bank, Jabi, Abuja FCT, Nigeria  ...   ₦3,750,000.00 Per Year\n",
              "11   , Alafia Bus stop, Badagry Express Way, Lagos,...  ...          ₦40,000,000.00 \n",
              "12                         , Oduduwa Crescent, Nigeria  ...         ₦150,000,000.00 \n",
              "..                                                 ...  ...                      ...\n",
              "685                      , Femi Okunnu Estate, Nigeria  ...   ₦4,000,000.00 Per Year\n",
              "686                                   , Oniru, Nigeria  ...  ₦70,000,000.00 Per Year\n",
              "691  , Peace Estate, Federal Govt. housing scheme, ...  ...          ₦20,000,000.00 \n",
              "730     , Lekki phase 1, Lekki Phase 1, Lagos, Nigeria  ...  ₦5,500,000.00 per month\n",
              "731              , Gerrard Road, Ikoyi, Lagos, Nigeria  ...              $2,500,000 \n",
              "\n",
              "[404 rows x 6 columns]"
            ]
          },
          "metadata": {
            "tags": []
          },
          "execution_count": 280
        }
      ]
    },
    {
      "cell_type": "markdown",
      "metadata": {
        "id": "0A6yWjcs7hNl"
      },
      "source": [
        "It may provide more clarity for our readers to have at a glance the cities or towns where these appartments are located instead of scaning through the location column"
      ]
    },
    {
      "cell_type": "code",
      "metadata": {
        "id": "sTJTgjy6isoP"
      },
      "source": [
        "data['Town'] = df['location'].apply(lambda x: x.split(',')[-2])"
      ],
      "execution_count": 281,
      "outputs": []
    },
    {
      "cell_type": "code",
      "metadata": {
        "colab": {
          "base_uri": "https://localhost:8080/",
          "height": 416
        },
        "id": "6JVXA-LijlvJ",
        "outputId": "19f1a5ff-3165-43f0-e12e-a98219cbf7cf"
      },
      "source": [
        "data"
      ],
      "execution_count": 282,
      "outputs": [
        {
          "output_type": "execute_result",
          "data": {
            "text/html": [
              "<div>\n",
              "<style scoped>\n",
              "    .dataframe tbody tr th:only-of-type {\n",
              "        vertical-align: middle;\n",
              "    }\n",
              "\n",
              "    .dataframe tbody tr th {\n",
              "        vertical-align: top;\n",
              "    }\n",
              "\n",
              "    .dataframe thead th {\n",
              "        text-align: right;\n",
              "    }\n",
              "</style>\n",
              "<table border=\"1\" class=\"dataframe\">\n",
              "  <thead>\n",
              "    <tr style=\"text-align: right;\">\n",
              "      <th></th>\n",
              "      <th>location</th>\n",
              "      <th>bedrooms</th>\n",
              "      <th>converted_price</th>\n",
              "      <th>tenure</th>\n",
              "      <th>es_sales_price</th>\n",
              "      <th>original_price</th>\n",
              "      <th>Town</th>\n",
              "    </tr>\n",
              "  </thead>\n",
              "  <tbody>\n",
              "    <tr>\n",
              "      <th>8</th>\n",
              "      <td>, Alafia Bus stop, Badagry Express Way, Lagos,...</td>\n",
              "      <td>5.0</td>\n",
              "      <td>3.300000e+07</td>\n",
              "      <td>Full Purchase</td>\n",
              "      <td>3.300000e+07</td>\n",
              "      <td>₦33,000,000.00</td>\n",
              "      <td>Lagos</td>\n",
              "    </tr>\n",
              "    <tr>\n",
              "      <th>9</th>\n",
              "      <td>, Alafia Bus stop, Badagry Express Way, Lagos,...</td>\n",
              "      <td>8.0</td>\n",
              "      <td>3.000000e+07</td>\n",
              "      <td>Full Purchase</td>\n",
              "      <td>3.000000e+07</td>\n",
              "      <td>₦30,000,000.00</td>\n",
              "      <td>Lagos</td>\n",
              "    </tr>\n",
              "    <tr>\n",
              "      <th>10</th>\n",
              "      <td>, jabi by eco bank, Jabi, Abuja FCT, Nigeria</td>\n",
              "      <td>3.0</td>\n",
              "      <td>3.750000e+06</td>\n",
              "      <td>Yearly Rent</td>\n",
              "      <td>5.769231e+07</td>\n",
              "      <td>₦3,750,000.00 Per Year</td>\n",
              "      <td>Abuja FCT</td>\n",
              "    </tr>\n",
              "    <tr>\n",
              "      <th>11</th>\n",
              "      <td>, Alafia Bus stop, Badagry Express Way, Lagos,...</td>\n",
              "      <td>5.0</td>\n",
              "      <td>4.000000e+07</td>\n",
              "      <td>Full Purchase</td>\n",
              "      <td>4.000000e+07</td>\n",
              "      <td>₦40,000,000.00</td>\n",
              "      <td>Lagos</td>\n",
              "    </tr>\n",
              "    <tr>\n",
              "      <th>12</th>\n",
              "      <td>, Oduduwa Crescent, Nigeria</td>\n",
              "      <td>4.0</td>\n",
              "      <td>1.500000e+08</td>\n",
              "      <td>Full Purchase</td>\n",
              "      <td>1.500000e+08</td>\n",
              "      <td>₦150,000,000.00</td>\n",
              "      <td>Oduduwa Crescent</td>\n",
              "    </tr>\n",
              "    <tr>\n",
              "      <th>...</th>\n",
              "      <td>...</td>\n",
              "      <td>...</td>\n",
              "      <td>...</td>\n",
              "      <td>...</td>\n",
              "      <td>...</td>\n",
              "      <td>...</td>\n",
              "      <td>...</td>\n",
              "    </tr>\n",
              "    <tr>\n",
              "      <th>685</th>\n",
              "      <td>, Femi Okunnu Estate, Nigeria</td>\n",
              "      <td>4.0</td>\n",
              "      <td>4.000000e+06</td>\n",
              "      <td>Yearly Rent</td>\n",
              "      <td>6.153846e+07</td>\n",
              "      <td>₦4,000,000.00 Per Year</td>\n",
              "      <td>Femi Okunnu Estate</td>\n",
              "    </tr>\n",
              "    <tr>\n",
              "      <th>686</th>\n",
              "      <td>, Oniru, Nigeria</td>\n",
              "      <td>4.0</td>\n",
              "      <td>7.000000e+07</td>\n",
              "      <td>Yearly Rent</td>\n",
              "      <td>1.076923e+09</td>\n",
              "      <td>₦70,000,000.00 Per Year</td>\n",
              "      <td>Oniru</td>\n",
              "    </tr>\n",
              "    <tr>\n",
              "      <th>691</th>\n",
              "      <td>, Peace Estate, Federal Govt. housing scheme, ...</td>\n",
              "      <td>4.0</td>\n",
              "      <td>2.000000e+07</td>\n",
              "      <td>Full Purchase</td>\n",
              "      <td>2.000000e+07</td>\n",
              "      <td>₦20,000,000.00</td>\n",
              "      <td>Lagos</td>\n",
              "    </tr>\n",
              "    <tr>\n",
              "      <th>730</th>\n",
              "      <td>, Lekki phase 1, Lekki Phase 1, Lagos, Nigeria</td>\n",
              "      <td>5.0</td>\n",
              "      <td>6.600000e+07</td>\n",
              "      <td>Monthly Rent</td>\n",
              "      <td>1.015385e+09</td>\n",
              "      <td>₦5,500,000.00 per month</td>\n",
              "      <td>Lagos</td>\n",
              "    </tr>\n",
              "    <tr>\n",
              "      <th>731</th>\n",
              "      <td>, Gerrard Road, Ikoyi, Lagos, Nigeria</td>\n",
              "      <td>4.0</td>\n",
              "      <td>1.023000e+09</td>\n",
              "      <td>Full Purchase</td>\n",
              "      <td>1.023000e+09</td>\n",
              "      <td>$2,500,000</td>\n",
              "      <td>Lagos</td>\n",
              "    </tr>\n",
              "  </tbody>\n",
              "</table>\n",
              "<p>404 rows × 7 columns</p>\n",
              "</div>"
            ],
            "text/plain": [
              "                                              location  ...                 Town\n",
              "8    , Alafia Bus stop, Badagry Express Way, Lagos,...  ...                Lagos\n",
              "9    , Alafia Bus stop, Badagry Express Way, Lagos,...  ...                Lagos\n",
              "10        , jabi by eco bank, Jabi, Abuja FCT, Nigeria  ...            Abuja FCT\n",
              "11   , Alafia Bus stop, Badagry Express Way, Lagos,...  ...                Lagos\n",
              "12                         , Oduduwa Crescent, Nigeria  ...     Oduduwa Crescent\n",
              "..                                                 ...  ...                  ...\n",
              "685                      , Femi Okunnu Estate, Nigeria  ...   Femi Okunnu Estate\n",
              "686                                   , Oniru, Nigeria  ...                Oniru\n",
              "691  , Peace Estate, Federal Govt. housing scheme, ...  ...                Lagos\n",
              "730     , Lekki phase 1, Lekki Phase 1, Lagos, Nigeria  ...                Lagos\n",
              "731              , Gerrard Road, Ikoyi, Lagos, Nigeria  ...                Lagos\n",
              "\n",
              "[404 rows x 7 columns]"
            ]
          },
          "metadata": {
            "tags": []
          },
          "execution_count": 282
        }
      ]
    },
    {
      "cell_type": "code",
      "metadata": {
        "id": "W9DGaiilytvb"
      },
      "source": [
        "cleaned_data =data[['Town', 'location', 'bedrooms', 'es_sales_price']]"
      ],
      "execution_count": 283,
      "outputs": []
    },
    {
      "cell_type": "markdown",
      "metadata": {
        "id": "7rxHZStL8AHp"
      },
      "source": [
        "Now this is the dataset we will run our models on."
      ]
    },
    {
      "cell_type": "code",
      "metadata": {
        "colab": {
          "base_uri": "https://localhost:8080/",
          "height": 416
        },
        "id": "4qrpGJRls1D3",
        "outputId": "bf8981d8-e547-4b29-e0d7-46a2d03f9018"
      },
      "source": [
        "cleaned_data.reset_index(drop=True, inplace=True)\n",
        "cleaned_data"
      ],
      "execution_count": 284,
      "outputs": [
        {
          "output_type": "execute_result",
          "data": {
            "text/html": [
              "<div>\n",
              "<style scoped>\n",
              "    .dataframe tbody tr th:only-of-type {\n",
              "        vertical-align: middle;\n",
              "    }\n",
              "\n",
              "    .dataframe tbody tr th {\n",
              "        vertical-align: top;\n",
              "    }\n",
              "\n",
              "    .dataframe thead th {\n",
              "        text-align: right;\n",
              "    }\n",
              "</style>\n",
              "<table border=\"1\" class=\"dataframe\">\n",
              "  <thead>\n",
              "    <tr style=\"text-align: right;\">\n",
              "      <th></th>\n",
              "      <th>Town</th>\n",
              "      <th>location</th>\n",
              "      <th>bedrooms</th>\n",
              "      <th>es_sales_price</th>\n",
              "    </tr>\n",
              "  </thead>\n",
              "  <tbody>\n",
              "    <tr>\n",
              "      <th>0</th>\n",
              "      <td>Lagos</td>\n",
              "      <td>, Alafia Bus stop, Badagry Express Way, Lagos,...</td>\n",
              "      <td>5.0</td>\n",
              "      <td>3.300000e+07</td>\n",
              "    </tr>\n",
              "    <tr>\n",
              "      <th>1</th>\n",
              "      <td>Lagos</td>\n",
              "      <td>, Alafia Bus stop, Badagry Express Way, Lagos,...</td>\n",
              "      <td>8.0</td>\n",
              "      <td>3.000000e+07</td>\n",
              "    </tr>\n",
              "    <tr>\n",
              "      <th>2</th>\n",
              "      <td>Abuja FCT</td>\n",
              "      <td>, jabi by eco bank, Jabi, Abuja FCT, Nigeria</td>\n",
              "      <td>3.0</td>\n",
              "      <td>5.769231e+07</td>\n",
              "    </tr>\n",
              "    <tr>\n",
              "      <th>3</th>\n",
              "      <td>Lagos</td>\n",
              "      <td>, Alafia Bus stop, Badagry Express Way, Lagos,...</td>\n",
              "      <td>5.0</td>\n",
              "      <td>4.000000e+07</td>\n",
              "    </tr>\n",
              "    <tr>\n",
              "      <th>4</th>\n",
              "      <td>Oduduwa Crescent</td>\n",
              "      <td>, Oduduwa Crescent, Nigeria</td>\n",
              "      <td>4.0</td>\n",
              "      <td>1.500000e+08</td>\n",
              "    </tr>\n",
              "    <tr>\n",
              "      <th>...</th>\n",
              "      <td>...</td>\n",
              "      <td>...</td>\n",
              "      <td>...</td>\n",
              "      <td>...</td>\n",
              "    </tr>\n",
              "    <tr>\n",
              "      <th>399</th>\n",
              "      <td>Femi Okunnu Estate</td>\n",
              "      <td>, Femi Okunnu Estate, Nigeria</td>\n",
              "      <td>4.0</td>\n",
              "      <td>6.153846e+07</td>\n",
              "    </tr>\n",
              "    <tr>\n",
              "      <th>400</th>\n",
              "      <td>Oniru</td>\n",
              "      <td>, Oniru, Nigeria</td>\n",
              "      <td>4.0</td>\n",
              "      <td>1.076923e+09</td>\n",
              "    </tr>\n",
              "    <tr>\n",
              "      <th>401</th>\n",
              "      <td>Lagos</td>\n",
              "      <td>, Peace Estate, Federal Govt. housing scheme, ...</td>\n",
              "      <td>4.0</td>\n",
              "      <td>2.000000e+07</td>\n",
              "    </tr>\n",
              "    <tr>\n",
              "      <th>402</th>\n",
              "      <td>Lagos</td>\n",
              "      <td>, Lekki phase 1, Lekki Phase 1, Lagos, Nigeria</td>\n",
              "      <td>5.0</td>\n",
              "      <td>1.015385e+09</td>\n",
              "    </tr>\n",
              "    <tr>\n",
              "      <th>403</th>\n",
              "      <td>Lagos</td>\n",
              "      <td>, Gerrard Road, Ikoyi, Lagos, Nigeria</td>\n",
              "      <td>4.0</td>\n",
              "      <td>1.023000e+09</td>\n",
              "    </tr>\n",
              "  </tbody>\n",
              "</table>\n",
              "<p>404 rows × 4 columns</p>\n",
              "</div>"
            ],
            "text/plain": [
              "                    Town  ... es_sales_price\n",
              "0                  Lagos  ...   3.300000e+07\n",
              "1                  Lagos  ...   3.000000e+07\n",
              "2              Abuja FCT  ...   5.769231e+07\n",
              "3                  Lagos  ...   4.000000e+07\n",
              "4       Oduduwa Crescent  ...   1.500000e+08\n",
              "..                   ...  ...            ...\n",
              "399   Femi Okunnu Estate  ...   6.153846e+07\n",
              "400                Oniru  ...   1.076923e+09\n",
              "401                Lagos  ...   2.000000e+07\n",
              "402                Lagos  ...   1.015385e+09\n",
              "403                Lagos  ...   1.023000e+09\n",
              "\n",
              "[404 rows x 4 columns]"
            ]
          },
          "metadata": {
            "tags": []
          },
          "execution_count": 284
        }
      ]
    },
    {
      "cell_type": "code",
      "metadata": {
        "colab": {
          "base_uri": "https://localhost:8080/",
          "height": 535
        },
        "id": "drB0rF1RoeCn",
        "outputId": "15b87c0f-84f1-4225-c2fc-b18d2e8f3341"
      },
      "source": [
        "cleaned_data.plot().get_figure()"
      ],
      "execution_count": 285,
      "outputs": [
        {
          "output_type": "execute_result",
          "data": {
            "image/png": "[encoded data removed]",
            "text/plain": [
              "<Figure size 432x288 with 1 Axes>"
            ]
          },
          "metadata": {
            "tags": []
          },
          "execution_count": 285
        },
        {
          "output_type": "display_data",
          "data": {
            "image/png": "[encoded data removed]",
            "text/plain": [
              "<Figure size 432x288 with 1 Axes>"
            ]
          },
          "metadata": {
            "tags": [],
            "needs_background": "light"
          }
        }
      ]
    },
    {
      "cell_type": "markdown",
      "metadata": {
        "id": "oelCISbs3HRb"
      },
      "source": [
        "This plot has shown that there is an outlier in this dataset. Working with this dataset as it is will hugely influence our model performance hence it has to be removed."
      ]
    },
    {
      "cell_type": "code",
      "metadata": {
        "colab": {
          "base_uri": "https://localhost:8080/",
          "height": 416
        },
        "id": "TUmnstOb3NZw",
        "outputId": "32bfff5b-b310-4ca1-8ee6-0da5a0f12376"
      },
      "source": [
        "cleaned_data.sort_values('es_sales_price', ascending=False)"
      ],
      "execution_count": 286,
      "outputs": [
        {
          "output_type": "execute_result",
          "data": {
            "text/html": [
              "<div>\n",
              "<style scoped>\n",
              "    .dataframe tbody tr th:only-of-type {\n",
              "        vertical-align: middle;\n",
              "    }\n",
              "\n",
              "    .dataframe tbody tr th {\n",
              "        vertical-align: top;\n",
              "    }\n",
              "\n",
              "    .dataframe thead th {\n",
              "        text-align: right;\n",
              "    }\n",
              "</style>\n",
              "<table border=\"1\" class=\"dataframe\">\n",
              "  <thead>\n",
              "    <tr style=\"text-align: right;\">\n",
              "      <th></th>\n",
              "      <th>Town</th>\n",
              "      <th>location</th>\n",
              "      <th>bedrooms</th>\n",
              "      <th>es_sales_price</th>\n",
              "    </tr>\n",
              "  </thead>\n",
              "  <tbody>\n",
              "    <tr>\n",
              "      <th>267</th>\n",
              "      <td>Lagos</td>\n",
              "      <td>, INA OBASI, Ogudu, Lagos, Nigeria</td>\n",
              "      <td>6.0</td>\n",
              "      <td>4.000000e+11</td>\n",
              "    </tr>\n",
              "    <tr>\n",
              "      <th>56</th>\n",
              "      <td>Lagos</td>\n",
              "      <td>, Lekki Phase 1, Lekki, Lagos, Nigeria</td>\n",
              "      <td>5.0</td>\n",
              "      <td>1.661539e+09</td>\n",
              "    </tr>\n",
              "    <tr>\n",
              "      <th>395</th>\n",
              "      <td>Banana Island</td>\n",
              "      <td>, Ocean Parade, Banana Island, Nigeria</td>\n",
              "      <td>4.0</td>\n",
              "      <td>1.573846e+09</td>\n",
              "    </tr>\n",
              "    <tr>\n",
              "      <th>306</th>\n",
              "      <td>Lagos</td>\n",
              "      <td>, Lekki Phase 1, Lekki, Lagos, Nigeria</td>\n",
              "      <td>5.0</td>\n",
              "      <td>1.200000e+09</td>\n",
              "    </tr>\n",
              "    <tr>\n",
              "      <th>400</th>\n",
              "      <td>Oniru</td>\n",
              "      <td>, Oniru, Nigeria</td>\n",
              "      <td>4.0</td>\n",
              "      <td>1.076923e+09</td>\n",
              "    </tr>\n",
              "    <tr>\n",
              "      <th>...</th>\n",
              "      <td>...</td>\n",
              "      <td>...</td>\n",
              "      <td>...</td>\n",
              "      <td>...</td>\n",
              "    </tr>\n",
              "    <tr>\n",
              "      <th>156</th>\n",
              "      <td>Lagos</td>\n",
              "      <td>, Ewu-Elepe, NEPA Estate, Ikorodu, Lagos, Nigeria</td>\n",
              "      <td>3.0</td>\n",
              "      <td>3.500000e+06</td>\n",
              "    </tr>\n",
              "    <tr>\n",
              "      <th>124</th>\n",
              "      <td>Lagos</td>\n",
              "      <td>, Enilololobo, Agege, Lagos, Nigeria</td>\n",
              "      <td>3.0</td>\n",
              "      <td>3.384616e+06</td>\n",
              "    </tr>\n",
              "    <tr>\n",
              "      <th>123</th>\n",
              "      <td>Lagos</td>\n",
              "      <td>, Meiran, Lagos, Nigeria</td>\n",
              "      <td>3.0</td>\n",
              "      <td>3.076923e+06</td>\n",
              "    </tr>\n",
              "    <tr>\n",
              "      <th>9</th>\n",
              "      <td>Lagos</td>\n",
              "      <td>, adegbose estate solebo ebute, Ipakodo, Ikoro...</td>\n",
              "      <td>3.0</td>\n",
              "      <td>6.153846e+05</td>\n",
              "    </tr>\n",
              "    <tr>\n",
              "      <th>143</th>\n",
              "      <td>Lagos</td>\n",
              "      <td>, Off Dairo Sreer, Ketu, Kosofe, Lagos, Nigeria</td>\n",
              "      <td>2.0</td>\n",
              "      <td>4.000000e+05</td>\n",
              "    </tr>\n",
              "  </tbody>\n",
              "</table>\n",
              "<p>404 rows × 4 columns</p>\n",
              "</div>"
            ],
            "text/plain": [
              "               Town  ... es_sales_price\n",
              "267           Lagos  ...   4.000000e+11\n",
              "56            Lagos  ...   1.661539e+09\n",
              "395   Banana Island  ...   1.573846e+09\n",
              "306           Lagos  ...   1.200000e+09\n",
              "400           Oniru  ...   1.076923e+09\n",
              "..              ...  ...            ...\n",
              "156           Lagos  ...   3.500000e+06\n",
              "124           Lagos  ...   3.384616e+06\n",
              "123           Lagos  ...   3.076923e+06\n",
              "9             Lagos  ...   6.153846e+05\n",
              "143           Lagos  ...   4.000000e+05\n",
              "\n",
              "[404 rows x 4 columns]"
            ]
          },
          "metadata": {
            "tags": []
          },
          "execution_count": 286
        }
      ]
    },
    {
      "cell_type": "code",
      "metadata": {
        "colab": {
          "base_uri": "https://localhost:8080/"
        },
        "id": "tLJv1m1wkHy8",
        "outputId": "659b5f88-3260-44d9-bf75-1828056bb7db"
      },
      "source": [
        "cleaned_data['Town'] = cleaned_data['Town'].str.strip(' ')"
      ],
      "execution_count": 287,
      "outputs": [
        {
          "output_type": "stream",
          "text": [
            "/usr/local/lib/python3.7/dist-packages/ipykernel_launcher.py:1: SettingWithCopyWarning: \n",
            "A value is trying to be set on a copy of a slice from a DataFrame.\n",
            "Try using .loc[row_indexer,col_indexer] = value instead\n",
            "\n",
            "See the caveats in the documentation: https://pandas.pydata.org/pandas-docs/stable/user_guide/indexing.html#returning-a-view-versus-a-copy\n",
            "  \"\"\"Entry point for launching an IPython kernel.\n"
          ],
          "name": "stderr"
        }
      ]
    },
    {
      "cell_type": "code",
      "metadata": {
        "id": "21W1aLlg4QXA"
      },
      "source": [
        "cleaned_data = cleaned_data.drop([267])"
      ],
      "execution_count": 288,
      "outputs": []
    },
    {
      "cell_type": "markdown",
      "metadata": {
        "id": "O8jFIT4E4f5_"
      },
      "source": [
        "Dropped the row that had the outlier and the below plot has shown us a fair distribution of the data in our dataset."
      ]
    },
    {
      "cell_type": "code",
      "metadata": {
        "colab": {
          "base_uri": "https://localhost:8080/",
          "height": 535
        },
        "id": "igJLf6oq4vdA",
        "outputId": "947fde7a-0218-4f0f-d268-69a1e9c798a0"
      },
      "source": [
        "cleaned_data.plot().get_figure()"
      ],
      "execution_count": 289,
      "outputs": [
        {
          "output_type": "execute_result",
          "data": {
            "image/png": "[encoded data removed]",
            "text/plain": [
              "<Figure size 432x288 with 1 Axes>"
            ]
          },
          "metadata": {
            "tags": []
          },
          "execution_count": 289
        },
        {
          "output_type": "display_data",
          "data": {
            "image/png": "[encoded data removed]",
            "text/plain": [
              "<Figure size 432x288 with 1 Axes>"
            ]
          },
          "metadata": {
            "tags": [],
            "needs_background": "light"
          }
        }
      ]
    },
    {
      "cell_type": "markdown",
      "metadata": {
        "id": "ABSTzaSt89ve"
      },
      "source": [
        "Using a scatter plot to try to understand the relationship between the number of rooms and the estimated sales price of the appertment"
      ]
    },
    {
      "cell_type": "code",
      "metadata": {
        "colab": {
          "base_uri": "https://localhost:8080/",
          "height": 441
        },
        "id": "61z99Hma48Yi",
        "outputId": "3d3361da-523e-47d4-96fc-3378d1092784"
      },
      "source": [
        "sns.lmplot('es_sales_price', 'bedrooms', data=cleaned_data)"
      ],
      "execution_count": 290,
      "outputs": [
        {
          "output_type": "stream",
          "text": [
            "/usr/local/lib/python3.7/dist-packages/seaborn/_decorators.py:43: FutureWarning: Pass the following variables as keyword args: x, y. From version 0.12, the only valid positional argument will be `data`, and passing other arguments without an explicit keyword will result in an error or misinterpretation.\n",
            "  FutureWarning\n"
          ],
          "name": "stderr"
        },
        {
          "output_type": "execute_result",
          "data": {
            "text/plain": [
              "<seaborn.axisgrid.FacetGrid at 0x7fddee56cd90>"
            ]
          },
          "metadata": {
            "tags": []
          },
          "execution_count": 290
        },
        {
          "output_type": "display_data",
          "data": {
            "image/png": "[encoded data removed]",
            "text/plain": [
              "<Figure size 360x360 with 1 Axes>"
            ]
          },
          "metadata": {
            "tags": [],
            "needs_background": "light"
          }
        }
      ]
    },
    {
      "cell_type": "code",
      "metadata": {
        "colab": {
          "base_uri": "https://localhost:8080/",
          "height": 392
        },
        "id": "XdEFsHKQ5iyu",
        "outputId": "ac04938e-c3ae-4b29-a629-5a46666f8069"
      },
      "source": [
        "cleaned_data.head(10).plot(x='Town', y='es_sales_price', kind='bar')"
      ],
      "execution_count": 291,
      "outputs": [
        {
          "output_type": "execute_result",
          "data": {
            "text/plain": [
              "<matplotlib.axes._subplots.AxesSubplot at 0x7fddede625d0>"
            ]
          },
          "metadata": {
            "tags": []
          },
          "execution_count": 291
        },
        {
          "output_type": "display_data",
          "data": {
            "image/png": "[encoded data removed]",
            "text/plain": [
              "<Figure size 432x288 with 1 Axes>"
            ]
          },
          "metadata": {
            "tags": [],
            "needs_background": "light"
          }
        }
      ]
    },
    {
      "cell_type": "markdown",
      "metadata": {
        "id": "HuHaysvAfWKt"
      },
      "source": [
        "Building The Model"
      ]
    },
    {
      "cell_type": "code",
      "metadata": {
        "id": "TK2Uij_SfaCd"
      },
      "source": [
        "msk = np.random.rand(len(cleaned_data)) < 0.7\n",
        "train = cleaned_data[msk]\n",
        "test = cleaned_data[~msk]"
      ],
      "execution_count": 292,
      "outputs": []
    },
    {
      "cell_type": "code",
      "metadata": {
        "id": "EMEQaYYevg7x"
      },
      "source": [
        "import matplotlib.pyplot as plt"
      ],
      "execution_count": 293,
      "outputs": []
    },
    {
      "cell_type": "code",
      "metadata": {
        "colab": {
          "base_uri": "https://localhost:8080/",
          "height": 279
        },
        "id": "OAg4YomEgZLe",
        "outputId": "abda4f85-911b-412d-ab3d-fae0c9a1a12e"
      },
      "source": [
        "plt.scatter(train.es_sales_price, train.bedrooms,  color='blue')\n",
        "plt.xlabel(\"Sales Price\")\n",
        "plt.ylabel(\"Bedroom\")\n",
        "plt.show()"
      ],
      "execution_count": 294,
      "outputs": [
        {
          "output_type": "display_data",
          "data": {
            "image/png": "[encoded data removed]",
            "text/plain": [
              "<Figure size 432x288 with 1 Axes>"
            ]
          },
          "metadata": {
            "tags": [],
            "needs_background": "light"
          }
        }
      ]
    },
    {
      "cell_type": "code",
      "metadata": {
        "colab": {
          "base_uri": "https://localhost:8080/"
        },
        "id": "_7dWZaKzgnAF",
        "outputId": "ed4a22b8-cace-47cd-e35c-1c007f38e632"
      },
      "source": [
        "from sklearn import linear_model\n",
        "regr = linear_model.LinearRegression()\n",
        "train_x = np.asanyarray(train[['es_sales_price']])\n",
        "train_y = np.asanyarray(train[['bedrooms']])\n",
        "regr.fit(train_x, train_y)"
      ],
      "execution_count": 295,
      "outputs": [
        {
          "output_type": "execute_result",
          "data": {
            "text/plain": [
              "LinearRegression(copy_X=True, fit_intercept=True, n_jobs=None, normalize=False)"
            ]
          },
          "metadata": {
            "tags": []
          },
          "execution_count": 295
        }
      ]
    },
    {
      "cell_type": "code",
      "metadata": {
        "colab": {
          "base_uri": "https://localhost:8080/"
        },
        "id": "bBE5I9VZwXwy",
        "outputId": "ea09603d-fb50-4400-b63b-db304fb654f2"
      },
      "source": [
        "from sklearn.metrics import mean_squared_error\n",
        "\n",
        "test_x = np.asanyarray(test[['es_sales_price']])\n",
        "test_y = np.asanyarray(test[['bedrooms']])\n",
        "test_y_ = regr.predict(test_x)\n",
        "\n",
        "rmse = np.sqrt(mean_squared_error(test_x, test_y))\n",
        "rmse"
      ],
      "execution_count": 296,
      "outputs": [
        {
          "output_type": "execute_result",
          "data": {
            "text/plain": [
              "266164501.44002286"
            ]
          },
          "metadata": {
            "tags": []
          },
          "execution_count": 296
        }
      ]
    },
    {
      "cell_type": "code",
      "metadata": {
        "colab": {
          "base_uri": "https://localhost:8080/"
        },
        "id": "0Ja73dUeyh1o",
        "outputId": "263b2f11-46a7-44c6-eb24-12d5cdd40160"
      },
      "source": [
        "from sklearn.metrics import mean_absolute_error\n",
        "\n",
        "mae = mean_absolute_error(test_x, test_y)\n",
        "mae"
      ],
      "execution_count": 297,
      "outputs": [
        {
          "output_type": "execute_result",
          "data": {
            "text/plain": [
              "122481368.45726496"
            ]
          },
          "metadata": {
            "tags": []
          },
          "execution_count": 297
        }
      ]
    },
    {
      "cell_type": "code",
      "metadata": {
        "colab": {
          "base_uri": "https://localhost:8080/"
        },
        "id": "qMZpCttlyIR0",
        "outputId": "6d47d6ab-94d5-44a8-fe20-909f98467b2a"
      },
      "source": [
        "from sklearn.metrics import r2_score\n",
        "r2_score(test_x, test_y)"
      ],
      "execution_count": 298,
      "outputs": [
        {
          "output_type": "execute_result",
          "data": {
            "text/plain": [
              "-0.2686459642371044"
            ]
          },
          "metadata": {
            "tags": []
          },
          "execution_count": 298
        }
      ]
    }
  ]
}