{
  "nbformat": 4,
  "nbformat_minor": 0,
  "metadata": {
    "colab": {
      "name": "Francis Euston - Pandas Data Visualization Individual Assessment.ipynb",
      "provenance": [],
      "collapsed_sections": [],
      "include_colab_link": true
    },
    "kernelspec": {
      "display_name": "Python 3",
      "language": "python",
      "name": "python3"
    },
    "language_info": {
      "codemirror_mode": {
        "name": "ipython",
        "version": 3
      },
      "file_extension": ".py",
      "mimetype": "text/x-python",
      "name": "python",
      "nbconvert_exporter": "python",
      "pygments_lexer": "ipython3",
      "version": "3.7.4"
    }
  },
  "cells": [
    {
      "cell_type": "markdown",
      "metadata": {
        "id": "view-in-github",
        "colab_type": "text"
      },
      "source": [
        "<a href=\"https://colab.research.google.com/github/lorduwahz/Data-Science/blob/main/Francis_Euston_Pandas_Data_Visualization_Individual_Assessment.ipynb\" target=\"_parent\"><img src=\"https://colab.research.google.com/assets/colab-badge.svg\" alt=\"Open In Colab\"/></a>"
      ]
    },
    {
      "cell_type": "markdown",
      "metadata": {
        "id": "V2_Ja9uSRcJr"
      },
      "source": [
        "# <font color='green'>**Data Visualization using Python Individual Assessment.**</font>"
      ]
    },
    {
      "cell_type": "markdown",
      "metadata": {
        "id": "B-IxbnzqRHAC"
      },
      "source": [
        "## Case Study COVID-19\n",
        "* The data can be accessed online here <a href=\"https://covid19.who.int/table\">WHO Coronavirus Disease (COVID-19) Dashboard</a>\n",
        "\n",
        "## Available columns\n",
        "* Date_reported - Date of the observation in YYYY/MM/DD\n",
        "* Country Code - Code for Country of the observation (Could be empty when missing)\n",
        "* Country - Country of observation\n",
        "* WHO_region - Region of observation\n",
        "* New_cases - Number of confirmed cases till that date\n",
        "* Cumulative_cases - Cumulative number of confirmed cases\n",
        "* New_deaths - Number of deaths cases\n",
        "* Cumulative_deaths - Cumulative number of deaths cases"
      ]
    },
    {
      "cell_type": "code",
      "metadata": {
        "id": "263P6dQrRHAD"
      },
      "source": [
        "#Import libraries\n",
        "import pandas as pd\n",
        "import matplotlib.pyplot as plt\n",
        "\n",
        "#load data set\n",
        "data = pd.read_csv('WHO-COVID-19-global-data.csv')\n",
        "# Converting Date_reported to datetime\n",
        "data['Date_reported']=pd.to_datetime(data['Date_reported'])"
      ],
      "execution_count": 1,
      "outputs": []
    },
    {
      "cell_type": "code",
      "metadata": {
        "colab": {
          "base_uri": "https://localhost:8080/",
          "height": 356
        },
        "id": "2YRm4Vb3RHAE",
        "outputId": "ed649716-5d5d-4914-804a-2ef1c1400886"
      },
      "source": [
        "#view first 5 rows\n",
        "data.head(10)"
      ],
      "execution_count": 2,
      "outputs": [
        {
          "output_type": "execute_result",
          "data": {
            "text/html": [
              "<div>\n",
              "<style scoped>\n",
              "    .dataframe tbody tr th:only-of-type {\n",
              "        vertical-align: middle;\n",
              "    }\n",
              "\n",
              "    .dataframe tbody tr th {\n",
              "        vertical-align: top;\n",
              "    }\n",
              "\n",
              "    .dataframe thead th {\n",
              "        text-align: right;\n",
              "    }\n",
              "</style>\n",
              "<table border=\"1\" class=\"dataframe\">\n",
              "  <thead>\n",
              "    <tr style=\"text-align: right;\">\n",
              "      <th></th>\n",
              "      <th>Date_reported</th>\n",
              "      <th>Country_code</th>\n",
              "      <th>Country</th>\n",
              "      <th>WHO_region</th>\n",
              "      <th>New_cases</th>\n",
              "      <th>Cumulative_cases</th>\n",
              "      <th>New_deaths</th>\n",
              "      <th>Cumulative_deaths</th>\n",
              "    </tr>\n",
              "  </thead>\n",
              "  <tbody>\n",
              "    <tr>\n",
              "      <th>0</th>\n",
              "      <td>2020-02-24</td>\n",
              "      <td>AF</td>\n",
              "      <td>Afghanistan</td>\n",
              "      <td>EMRO</td>\n",
              "      <td>5</td>\n",
              "      <td>5</td>\n",
              "      <td>0</td>\n",
              "      <td>0</td>\n",
              "    </tr>\n",
              "    <tr>\n",
              "      <th>1</th>\n",
              "      <td>2020-02-25</td>\n",
              "      <td>AF</td>\n",
              "      <td>Afghanistan</td>\n",
              "      <td>EMRO</td>\n",
              "      <td>0</td>\n",
              "      <td>5</td>\n",
              "      <td>0</td>\n",
              "      <td>0</td>\n",
              "    </tr>\n",
              "    <tr>\n",
              "      <th>2</th>\n",
              "      <td>2020-02-26</td>\n",
              "      <td>AF</td>\n",
              "      <td>Afghanistan</td>\n",
              "      <td>EMRO</td>\n",
              "      <td>0</td>\n",
              "      <td>5</td>\n",
              "      <td>0</td>\n",
              "      <td>0</td>\n",
              "    </tr>\n",
              "    <tr>\n",
              "      <th>3</th>\n",
              "      <td>2020-02-27</td>\n",
              "      <td>AF</td>\n",
              "      <td>Afghanistan</td>\n",
              "      <td>EMRO</td>\n",
              "      <td>0</td>\n",
              "      <td>5</td>\n",
              "      <td>0</td>\n",
              "      <td>0</td>\n",
              "    </tr>\n",
              "    <tr>\n",
              "      <th>4</th>\n",
              "      <td>2020-02-28</td>\n",
              "      <td>AF</td>\n",
              "      <td>Afghanistan</td>\n",
              "      <td>EMRO</td>\n",
              "      <td>0</td>\n",
              "      <td>5</td>\n",
              "      <td>0</td>\n",
              "      <td>0</td>\n",
              "    </tr>\n",
              "    <tr>\n",
              "      <th>5</th>\n",
              "      <td>2020-02-29</td>\n",
              "      <td>AF</td>\n",
              "      <td>Afghanistan</td>\n",
              "      <td>EMRO</td>\n",
              "      <td>0</td>\n",
              "      <td>5</td>\n",
              "      <td>0</td>\n",
              "      <td>0</td>\n",
              "    </tr>\n",
              "    <tr>\n",
              "      <th>6</th>\n",
              "      <td>2020-03-01</td>\n",
              "      <td>AF</td>\n",
              "      <td>Afghanistan</td>\n",
              "      <td>EMRO</td>\n",
              "      <td>0</td>\n",
              "      <td>5</td>\n",
              "      <td>0</td>\n",
              "      <td>0</td>\n",
              "    </tr>\n",
              "    <tr>\n",
              "      <th>7</th>\n",
              "      <td>2020-03-02</td>\n",
              "      <td>AF</td>\n",
              "      <td>Afghanistan</td>\n",
              "      <td>EMRO</td>\n",
              "      <td>0</td>\n",
              "      <td>5</td>\n",
              "      <td>0</td>\n",
              "      <td>0</td>\n",
              "    </tr>\n",
              "    <tr>\n",
              "      <th>8</th>\n",
              "      <td>2020-03-03</td>\n",
              "      <td>AF</td>\n",
              "      <td>Afghanistan</td>\n",
              "      <td>EMRO</td>\n",
              "      <td>0</td>\n",
              "      <td>5</td>\n",
              "      <td>0</td>\n",
              "      <td>0</td>\n",
              "    </tr>\n",
              "    <tr>\n",
              "      <th>9</th>\n",
              "      <td>2020-03-04</td>\n",
              "      <td>AF</td>\n",
              "      <td>Afghanistan</td>\n",
              "      <td>EMRO</td>\n",
              "      <td>0</td>\n",
              "      <td>5</td>\n",
              "      <td>0</td>\n",
              "      <td>0</td>\n",
              "    </tr>\n",
              "  </tbody>\n",
              "</table>\n",
              "</div>"
            ],
            "text/plain": [
              "  Date_reported  Country_code  ...  New_deaths  Cumulative_deaths\n",
              "0    2020-02-24            AF  ...           0                  0\n",
              "1    2020-02-25            AF  ...           0                  0\n",
              "2    2020-02-26            AF  ...           0                  0\n",
              "3    2020-02-27            AF  ...           0                  0\n",
              "4    2020-02-28            AF  ...           0                  0\n",
              "5    2020-02-29            AF  ...           0                  0\n",
              "6    2020-03-01            AF  ...           0                  0\n",
              "7    2020-03-02            AF  ...           0                  0\n",
              "8    2020-03-03            AF  ...           0                  0\n",
              "9    2020-03-04            AF  ...           0                  0\n",
              "\n",
              "[10 rows x 8 columns]"
            ]
          },
          "metadata": {
            "tags": []
          },
          "execution_count": 2
        }
      ]
    },
    {
      "cell_type": "code",
      "metadata": {
        "colab": {
          "base_uri": "https://localhost:8080/"
        },
        "id": "PAvEYHlVRHAG",
        "outputId": "e6fc2c7e-cf56-4950-c36b-6dc90ab06f8d"
      },
      "source": [
        "#check for sum of missing values by column\n",
        "data.isnull().sum()"
      ],
      "execution_count": 3,
      "outputs": [
        {
          "output_type": "execute_result",
          "data": {
            "text/plain": [
              "Date_reported           0\n",
              " Country_code         172\n",
              " Country                0\n",
              " WHO_region             0\n",
              " New_cases              0\n",
              " Cumulative_cases       0\n",
              " New_deaths             0\n",
              " Cumulative_deaths      0\n",
              "dtype: int64"
            ]
          },
          "metadata": {
            "tags": []
          },
          "execution_count": 3
        }
      ]
    },
    {
      "cell_type": "code",
      "metadata": {
        "colab": {
          "base_uri": "https://localhost:8080/"
        },
        "id": "eOLQam5rRHAH",
        "outputId": "9b307d43-75b5-4216-850e-ec45a65fe8b8"
      },
      "source": [
        "#check column names\n",
        "data.info()"
      ],
      "execution_count": 4,
      "outputs": [
        {
          "output_type": "stream",
          "text": [
            "<class 'pandas.core.frame.DataFrame'>\n",
            "RangeIndex: 38785 entries, 0 to 38784\n",
            "Data columns (total 8 columns):\n",
            " #   Column              Non-Null Count  Dtype         \n",
            "---  ------              --------------  -----         \n",
            " 0   Date_reported       38785 non-null  datetime64[ns]\n",
            " 1    Country_code       38613 non-null  object        \n",
            " 2    Country            38785 non-null  object        \n",
            " 3    WHO_region         38785 non-null  object        \n",
            " 4    New_cases          38785 non-null  int64         \n",
            " 5    Cumulative_cases   38785 non-null  int64         \n",
            " 6    New_deaths         38785 non-null  int64         \n",
            " 7    Cumulative_deaths  38785 non-null  int64         \n",
            "dtypes: datetime64[ns](1), int64(4), object(3)\n",
            "memory usage: 2.4+ MB\n"
          ],
          "name": "stdout"
        }
      ]
    },
    {
      "cell_type": "code",
      "metadata": {
        "id": "jrafrOnVRHAI"
      },
      "source": [
        "#remove spaces in column names\n",
        "data.columns = data.columns.str.replace(' ', '')"
      ],
      "execution_count": 5,
      "outputs": []
    },
    {
      "cell_type": "code",
      "metadata": {
        "colab": {
          "base_uri": "https://localhost:8080/"
        },
        "id": "g0HwJQN6RHAI",
        "outputId": "a57b7f7b-5ae1-4bd9-a344-ff9d65c1e2f9"
      },
      "source": [
        "#confirm spaces removed\n",
        "data.info()"
      ],
      "execution_count": 6,
      "outputs": [
        {
          "output_type": "stream",
          "text": [
            "<class 'pandas.core.frame.DataFrame'>\n",
            "RangeIndex: 38785 entries, 0 to 38784\n",
            "Data columns (total 8 columns):\n",
            " #   Column             Non-Null Count  Dtype         \n",
            "---  ------             --------------  -----         \n",
            " 0   Date_reported      38785 non-null  datetime64[ns]\n",
            " 1   Country_code       38613 non-null  object        \n",
            " 2   Country            38785 non-null  object        \n",
            " 3   WHO_region         38785 non-null  object        \n",
            " 4   New_cases          38785 non-null  int64         \n",
            " 5   Cumulative_cases   38785 non-null  int64         \n",
            " 6   New_deaths         38785 non-null  int64         \n",
            " 7   Cumulative_deaths  38785 non-null  int64         \n",
            "dtypes: datetime64[ns](1), int64(4), object(3)\n",
            "memory usage: 2.4+ MB\n"
          ],
          "name": "stdout"
        }
      ]
    },
    {
      "cell_type": "code",
      "metadata": {
        "colab": {
          "base_uri": "https://localhost:8080/"
        },
        "id": "RsURJ5gSRHAJ",
        "outputId": "d195bcb0-859e-4b8a-8b09-631af81672f7"
      },
      "source": [
        "#check data size\n",
        "data.shape"
      ],
      "execution_count": 7,
      "outputs": [
        {
          "output_type": "execute_result",
          "data": {
            "text/plain": [
              "(38785, 8)"
            ]
          },
          "metadata": {
            "tags": []
          },
          "execution_count": 7
        }
      ]
    },
    {
      "cell_type": "markdown",
      "metadata": {
        "id": "WSeIGqUqRHAJ"
      },
      "source": [
        "\n",
        "Visualize cases(`Cumulative_cases` and `Cumulative_deaths`) on a line graph."
      ]
    },
    {
      "cell_type": "code",
      "metadata": {
        "id": "TD3dCq9dvw1q"
      },
      "source": [
        "%matplotlib inline"
      ],
      "execution_count": 53,
      "outputs": []
    },
    {
      "cell_type": "code",
      "metadata": {
        "colab": {
          "base_uri": "https://localhost:8080/",
          "height": 305
        },
        "id": "o6tgiVk7Ksyu",
        "outputId": "f1c87c80-bf96-4ede-a094-aed446bb204b"
      },
      "source": [
        "data.plot(x='Date_reported', y=['Cumulative_cases', 'Cumulative_deaths'])"
      ],
      "execution_count": 54,
      "outputs": [
        {
          "output_type": "execute_result",
          "data": {
            "text/plain": [
              "<matplotlib.axes._subplots.AxesSubplot at 0x7f57562865d0>"
            ]
          },
          "metadata": {
            "tags": []
          },
          "execution_count": 54
        },
        {
          "output_type": "display_data",
          "data": {
            "image/png": "[encoded data removed]",
            "text/plain": [
              "<Figure size 432x288 with 1 Axes>"
            ]
          },
          "metadata": {
            "tags": [],
            "needs_background": "light"
          }
        }
      ]
    },
    {
      "cell_type": "markdown",
      "metadata": {
        "id": "jZXy7KIeCI6p"
      },
      "source": [
        "We can pick out three obvious thingd from the plot above.\n",
        "Cumulative cases and deaths were on the same level during the start of the pandemic but the ratio falls drastically as the year goes on. This mostly likely due to the fact that the COVID 19 was better managed as time goes on. \n",
        "The below separate plots of cumulative cases and deaths gives us the individual numbers for better clarity."
      ]
    },
    {
      "cell_type": "code",
      "metadata": {
        "colab": {
          "base_uri": "https://localhost:8080/",
          "height": 305
        },
        "id": "200_d-4qn5DW",
        "outputId": "e51a3271-ad85-41f8-ef2f-d2ef84631583"
      },
      "source": [
        "data.plot(x='Date_reported', y='Cumulative_cases')"
      ],
      "execution_count": 11,
      "outputs": [
        {
          "output_type": "execute_result",
          "data": {
            "text/plain": [
              "<matplotlib.axes._subplots.AxesSubplot at 0x7f575af886d0>"
            ]
          },
          "metadata": {
            "tags": []
          },
          "execution_count": 11
        },
        {
          "output_type": "display_data",
          "data": {
            "image/png": "[encoded data removed]",
            "text/plain": [
              "<Figure size 432x288 with 1 Axes>"
            ]
          },
          "metadata": {
            "tags": [],
            "needs_background": "light"
          }
        }
      ]
    },
    {
      "cell_type": "code",
      "metadata": {
        "colab": {
          "base_uri": "https://localhost:8080/",
          "height": 295
        },
        "id": "5lUPRjYcoBM8",
        "outputId": "32989d47-3f26-4985-d1f4-9d80aeb46246"
      },
      "source": [
        "data.plot(x='Date_reported', y='Cumulative_deaths')"
      ],
      "execution_count": 13,
      "outputs": [
        {
          "output_type": "execute_result",
          "data": {
            "text/plain": [
              "<matplotlib.axes._subplots.AxesSubplot at 0x7f575ab1ced0>"
            ]
          },
          "metadata": {
            "tags": []
          },
          "execution_count": 13
        },
        {
          "output_type": "display_data",
          "data": {
            "image/png": "[encoded data removed]",
            "text/plain": [
              "<Figure size 432x288 with 1 Axes>"
            ]
          },
          "metadata": {
            "tags": [],
            "needs_background": "light"
          }
        }
      ]
    },
    {
      "cell_type": "markdown",
      "metadata": {
        "id": "LtYRazZYFytm"
      },
      "source": [
        "From the above plot, by September 2020 cumulative cases peaked at alomost 6,000,000 while cumulative peaked at a little above 175,000.\n",
        "This explains clearly the shape of the first plot (Date_reported against Cumulative_cases and Cumulative_deaths."
      ]
    },
    {
      "cell_type": "markdown",
      "metadata": {
        "id": "n39RO___RHAL"
      },
      "source": [
        "\n",
        "Visualize the Top 5 countries with confirmed new cases and deaths"
      ]
    },
    {
      "cell_type": "code",
      "metadata": {
        "id": "3uk2YZyFRHAM"
      },
      "source": [
        "top_5_cases = data.groupby('Country', as_index=False)[['New_cases','New_deaths','Cumulative_cases','Cumulative_deaths']].apply(sum).sort_values(by=['New_cases'], ascending=False)\n",
        "top_5_cases_plt = top_5_cases.head()\n",
        "top_5_cases_plt"
      ],
      "execution_count": null,
      "outputs": []
    },
    {
      "cell_type": "code",
      "metadata": {
        "colab": {
          "base_uri": "https://localhost:8080/",
          "height": 307
        },
        "id": "1r5CHPNgxtCB",
        "outputId": "c2e8cd6e-d653-40f9-a297-16d203170799"
      },
      "source": [
        "top_5_cases_plt.plot(x='Country', y=['New_cases', 'New_deaths'])"
      ],
      "execution_count": 16,
      "outputs": [
        {
          "output_type": "execute_result",
          "data": {
            "text/plain": [
              "<matplotlib.axes._subplots.AxesSubplot at 0x7f575a84da10>"
            ]
          },
          "metadata": {
            "tags": []
          },
          "execution_count": 16
        },
        {
          "output_type": "display_data",
          "data": {
            "image/png": "[encoded data removed]",
            "text/plain": [
              "<Figure size 432x288 with 1 Axes>"
            ]
          },
          "metadata": {
            "tags": [],
            "needs_background": "light"
          }
        }
      ]
    },
    {
      "cell_type": "code",
      "metadata": {
        "id": "J-b4qez5s-QT"
      },
      "source": [
        "top_5_deaths = data.groupby('Country', as_index=False)[['New_cases','New_deaths','Cumulative_cases','Cumulative_deaths']].apply(sum).sort_values(by=['New_deaths'], ascending=False)\n",
        "top_5_deaths_plt = top_5_deaths.head()\n",
        "top_5_deaths_plt"
      ],
      "execution_count": null,
      "outputs": []
    },
    {
      "cell_type": "code",
      "metadata": {
        "colab": {
          "base_uri": "https://localhost:8080/",
          "height": 307
        },
        "id": "pXTDXrEk3J6g",
        "outputId": "f6b878ac-d7a2-4271-d634-58a2469b3099"
      },
      "source": [
        "top_5_deaths_plt.plot(x='Country', y=['New_cases', 'New_deaths'])"
      ],
      "execution_count": 18,
      "outputs": [
        {
          "output_type": "execute_result",
          "data": {
            "text/plain": [
              "<matplotlib.axes._subplots.AxesSubplot at 0x7f575a783e90>"
            ]
          },
          "metadata": {
            "tags": []
          },
          "execution_count": 18
        },
        {
          "output_type": "display_data",
          "data": {
            "image/png": "[encoded data removed]",
            "text/plain": [
              "<Figure size 432x288 with 1 Axes>"
            ]
          },
          "metadata": {
            "tags": [],
            "needs_background": "light"
          }
        }
      ]
    },
    {
      "cell_type": "markdown",
      "metadata": {
        "id": "L8iHqhScHAXk"
      },
      "source": [
        "From the first plot above, emphasis was laid on the new cases for which America, Brazil, India, Russia and Peru were at the top. A change in emphasis to new deaths saw Mexico and the United Kingdom push off Russia and Peru while the top three retained their spots. We can deduse from these plots that Mexico and the United Kingdom have a lower new cases to death ratio than Russia and Peru."
      ]
    },
    {
      "cell_type": "markdown",
      "metadata": {
        "id": "fzKvmJ4ARHAM"
      },
      "source": [
        "\n",
        "Show the trend of the top 10 countries with with mean confirmed new cases and deaths"
      ]
    },
    {
      "cell_type": "code",
      "metadata": {
        "id": "OMyeNm7XRHAN",
        "colab": {
          "base_uri": "https://localhost:8080/",
          "height": 295
        },
        "outputId": "280a6e61-6fd9-4ea5-b74f-2a98563daac5"
      },
      "source": [
        "top_5_cases = data.groupby('Country', as_index=False)[['New_cases','New_deaths','Cumulative_cases','Cumulative_deaths']].apply(sum).sort_values(by=['New_cases'], ascending=False)\n",
        "top_5_cases_plt = top_5_cases.head(10)\n",
        "top_5_cases_plt.describe()"
      ],
      "execution_count": 19,
      "outputs": [
        {
          "output_type": "execute_result",
          "data": {
            "text/html": [
              "<div>\n",
              "<style scoped>\n",
              "    .dataframe tbody tr th:only-of-type {\n",
              "        vertical-align: middle;\n",
              "    }\n",
              "\n",
              "    .dataframe tbody tr th {\n",
              "        vertical-align: top;\n",
              "    }\n",
              "\n",
              "    .dataframe thead th {\n",
              "        text-align: right;\n",
              "    }\n",
              "</style>\n",
              "<table border=\"1\" class=\"dataframe\">\n",
              "  <thead>\n",
              "    <tr style=\"text-align: right;\">\n",
              "      <th></th>\n",
              "      <th>New_cases</th>\n",
              "      <th>New_deaths</th>\n",
              "      <th>Cumulative_cases</th>\n",
              "      <th>Cumulative_deaths</th>\n",
              "    </tr>\n",
              "  </thead>\n",
              "  <tbody>\n",
              "    <tr>\n",
              "      <th>count</th>\n",
              "      <td>1.000000e+01</td>\n",
              "      <td>10.000000</td>\n",
              "      <td>1.000000e+01</td>\n",
              "      <td>1.000000e+01</td>\n",
              "    </tr>\n",
              "    <tr>\n",
              "      <th>mean</th>\n",
              "      <td>1.781910e+06</td>\n",
              "      <td>55233.600000</td>\n",
              "      <td>9.977300e+07</td>\n",
              "      <td>3.922505e+06</td>\n",
              "    </tr>\n",
              "    <tr>\n",
              "      <th>std</th>\n",
              "      <td>1.970116e+06</td>\n",
              "      <td>56101.008835</td>\n",
              "      <td>1.195954e+08</td>\n",
              "      <td>4.921903e+06</td>\n",
              "    </tr>\n",
              "    <tr>\n",
              "      <th>min</th>\n",
              "      <td>4.117260e+05</td>\n",
              "      <td>11289.000000</td>\n",
              "      <td>2.182728e+07</td>\n",
              "      <td>5.720170e+05</td>\n",
              "    </tr>\n",
              "    <tr>\n",
              "      <th>25%</th>\n",
              "      <td>5.988652e+05</td>\n",
              "      <td>17815.250000</td>\n",
              "      <td>3.129575e+07</td>\n",
              "      <td>8.358250e+05</td>\n",
              "    </tr>\n",
              "    <tr>\n",
              "      <th>50%</th>\n",
              "      <td>6.371035e+05</td>\n",
              "      <td>28899.500000</td>\n",
              "      <td>3.839649e+07</td>\n",
              "      <td>2.152560e+06</td>\n",
              "    </tr>\n",
              "    <tr>\n",
              "      <th>75%</th>\n",
              "      <td>3.018386e+06</td>\n",
              "      <td>65005.500000</td>\n",
              "      <td>1.171511e+08</td>\n",
              "      <td>4.007436e+06</td>\n",
              "    </tr>\n",
              "    <tr>\n",
              "      <th>max</th>\n",
              "      <td>5.936572e+06</td>\n",
              "      <td>182162.000000</td>\n",
              "      <td>3.992444e+08</td>\n",
              "      <td>1.650078e+07</td>\n",
              "    </tr>\n",
              "  </tbody>\n",
              "</table>\n",
              "</div>"
            ],
            "text/plain": [
              "          New_cases     New_deaths  Cumulative_cases  Cumulative_deaths\n",
              "count  1.000000e+01      10.000000      1.000000e+01       1.000000e+01\n",
              "mean   1.781910e+06   55233.600000      9.977300e+07       3.922505e+06\n",
              "std    1.970116e+06   56101.008835      1.195954e+08       4.921903e+06\n",
              "min    4.117260e+05   11289.000000      2.182728e+07       5.720170e+05\n",
              "25%    5.988652e+05   17815.250000      3.129575e+07       8.358250e+05\n",
              "50%    6.371035e+05   28899.500000      3.839649e+07       2.152560e+06\n",
              "75%    3.018386e+06   65005.500000      1.171511e+08       4.007436e+06\n",
              "max    5.936572e+06  182162.000000      3.992444e+08       1.650078e+07"
            ]
          },
          "metadata": {
            "tags": []
          },
          "execution_count": 19
        }
      ]
    },
    {
      "cell_type": "code",
      "metadata": {
        "colab": {
          "base_uri": "https://localhost:8080/",
          "height": 410
        },
        "id": "IBjZ8F2fqO7b",
        "outputId": "4100fd4f-3b63-4099-f10a-8ee0d180b2e3"
      },
      "source": [
        "top_10_mean = data.groupby('Country', as_index=False)['New_cases', 'New_deaths'].mean().sort_values('New_cases', ascending = False).head(10)\n",
        "top_10_mean"
      ],
      "execution_count": 34,
      "outputs": [
        {
          "output_type": "stream",
          "text": [
            "/usr/local/lib/python3.7/dist-packages/ipykernel_launcher.py:1: FutureWarning: Indexing with multiple keys (implicitly converted to a tuple of keys) will be deprecated, use a list instead.\n",
            "  \"\"\"Entry point for launching an IPython kernel.\n"
          ],
          "name": "stderr"
        },
        {
          "output_type": "execute_result",
          "data": {
            "text/html": [
              "<div>\n",
              "<style scoped>\n",
              "    .dataframe tbody tr th:only-of-type {\n",
              "        vertical-align: middle;\n",
              "    }\n",
              "\n",
              "    .dataframe tbody tr th {\n",
              "        vertical-align: top;\n",
              "    }\n",
              "\n",
              "    .dataframe thead th {\n",
              "        text-align: right;\n",
              "    }\n",
              "</style>\n",
              "<table border=\"1\" class=\"dataframe\">\n",
              "  <thead>\n",
              "    <tr style=\"text-align: right;\">\n",
              "      <th></th>\n",
              "      <th>Country</th>\n",
              "      <th>New_cases</th>\n",
              "      <th>New_deaths</th>\n",
              "    </tr>\n",
              "  </thead>\n",
              "  <tbody>\n",
              "    <tr>\n",
              "      <th>207</th>\n",
              "      <td>United States of America</td>\n",
              "      <td>26268.017699</td>\n",
              "      <td>806.026549</td>\n",
              "    </tr>\n",
              "    <tr>\n",
              "      <th>27</th>\n",
              "      <td>Brazil</td>\n",
              "      <td>20435.507937</td>\n",
              "      <td>639.301587</td>\n",
              "    </tr>\n",
              "    <tr>\n",
              "      <th>93</th>\n",
              "      <td>India</td>\n",
              "      <td>17088.731481</td>\n",
              "      <td>302.259259</td>\n",
              "    </tr>\n",
              "    <tr>\n",
              "      <th>163</th>\n",
              "      <td>Russian Federation</td>\n",
              "      <td>4651.386047</td>\n",
              "      <td>80.460465</td>\n",
              "    </tr>\n",
              "    <tr>\n",
              "      <th>154</th>\n",
              "      <td>Peru</td>\n",
              "      <td>3615.452514</td>\n",
              "      <td>160.826816</td>\n",
              "    </tr>\n",
              "    <tr>\n",
              "      <th>184</th>\n",
              "      <td>South Africa</td>\n",
              "      <td>3464.314917</td>\n",
              "      <td>78.171271</td>\n",
              "    </tr>\n",
              "    <tr>\n",
              "      <th>42</th>\n",
              "      <td>Colombia</td>\n",
              "      <td>3377.433333</td>\n",
              "      <td>107.577778</td>\n",
              "    </tr>\n",
              "    <tr>\n",
              "      <th>129</th>\n",
              "      <td>Mexico</td>\n",
              "      <td>3186.315508</td>\n",
              "      <td>343.090909</td>\n",
              "    </tr>\n",
              "    <tr>\n",
              "      <th>40</th>\n",
              "      <td>Chile</td>\n",
              "      <td>2249.868852</td>\n",
              "      <td>61.688525</td>\n",
              "    </tr>\n",
              "    <tr>\n",
              "      <th>7</th>\n",
              "      <td>Argentina</td>\n",
              "      <td>2231.836066</td>\n",
              "      <td>46.437158</td>\n",
              "    </tr>\n",
              "  </tbody>\n",
              "</table>\n",
              "</div>"
            ],
            "text/plain": [
              "                      Country     New_cases  New_deaths\n",
              "207  United States of America  26268.017699  806.026549\n",
              "27                     Brazil  20435.507937  639.301587\n",
              "93                      India  17088.731481  302.259259\n",
              "163        Russian Federation   4651.386047   80.460465\n",
              "154                      Peru   3615.452514  160.826816\n",
              "184              South Africa   3464.314917   78.171271\n",
              "42                   Colombia   3377.433333  107.577778\n",
              "129                    Mexico   3186.315508  343.090909\n",
              "40                      Chile   2249.868852   61.688525\n",
              "7                   Argentina   2231.836066   46.437158"
            ]
          },
          "metadata": {
            "tags": []
          },
          "execution_count": 34
        }
      ]
    },
    {
      "cell_type": "code",
      "metadata": {
        "colab": {
          "base_uri": "https://localhost:8080/",
          "height": 411
        },
        "id": "0QSfgUFu4Cim",
        "outputId": "d4d517b1-00ba-4419-dbc9-311e033011b6"
      },
      "source": [
        "top_10_mean.head(10).plot(x='Country', y=['New_cases', 'New_deaths'], kind='bar')"
      ],
      "execution_count": 38,
      "outputs": [
        {
          "output_type": "execute_result",
          "data": {
            "text/plain": [
              "<matplotlib.axes._subplots.AxesSubplot at 0x7f57561b9890>"
            ]
          },
          "metadata": {
            "tags": []
          },
          "execution_count": 38
        },
        {
          "output_type": "display_data",
          "data": {
            "image/png": "[encoded data removed]",
            "text/plain": [
              "<Figure size 432x288 with 1 Axes>"
            ]
          },
          "metadata": {
            "tags": [],
            "needs_background": "light"
          }
        }
      ]
    }
  ]
}